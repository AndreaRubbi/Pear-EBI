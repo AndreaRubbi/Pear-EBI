{
 "cells": [
  {
   "cell_type": "markdown",
   "id": "403c2b16",
   "metadata": {},
   "source": [
    " <h1> <font color='green'>P</font>hylogeny <font color='green'>E</font>mbedding  & </h1> <h1> <font color='green'>A</font>pproximate <font color='green'>R</font>epresentation </h1>\n",
    " <img src=\"Pear-EBI/logos/LOGO_PEAR.png\" width=\"100\" height=\"100\" style='position:absolute; right:500px; top:-15px' >"
   ]
  },
  {
   "cell_type": "code",
   "execution_count": 1,
   "id": "e0564db3",
   "metadata": {},
   "outputs": [],
   "source": [
    "from pear_ebi import tree_set\n",
    "import numpy as np\n",
    "import pandas as pd\n",
    "import time\n",
    "import os"
   ]
  },
  {
   "cell_type": "markdown",
   "id": "cfd297c4",
   "metadata": {},
   "source": [
    "# MAPLE\n",
    "### <font color='purple'> Maximum Likelihood Search </font> "
   ]
  },
  {
   "cell_type": "code",
   "execution_count": 2,
   "id": "e416977a",
   "metadata": {},
   "outputs": [],
   "source": [
    "maple_tree = [\n",
    "    \"IQtreeStartingTree_Trees\",\n",
    "    \"MapleStartingTree_Trees\",\n",
    "    \"ParsimonyRAxMLStartingTree_GTRmodel_Trees\",\n",
    "    \"RAxMLNGStartingTree_Trees\",\n",
    "    \"UshERStartingTree_Trees\",\n",
    "    \"TrueTreeSimulations\",\n",
    "    ]\n",
    "\n",
    "maple_LK = [\n",
    "    \"IQtreeStartingTree_LK\",\n",
    "    \"MapleStartingTree_LK\",\n",
    "    \"ParsimonyRAxMLStartingTree_GTRmodel_LK\",\n",
    "    \"RAxMLNGStartingTree_LK\",\n",
    "    \"UshERStartingTree_LK\",\n",
    "]\n",
    "\n",
    "maple_dir = './MAPLE_res/'"
   ]
  },
  {
   "cell_type": "code",
   "execution_count": 3,
   "id": "b5a438e8",
   "metadata": {},
   "outputs": [
    {
     "name": "stdout",
     "output_type": "stream",
     "text": [
      "─────────────────────────────            \n",
      " Tree set collection containing 138 trees;            \n",
      " File: Set_collection_3d4ced45-3530-49c0-b786-82b9730e36e8;\n",
      " Distance matrix: computed.                \n",
      "───────────────────────────── \n",
      "IQtreeStartingTree_Trees; Containing 29 trees. \n",
      "MapleStartingTree_Trees; Containing 5 trees. \n",
      "ParsimonyRAxMLStartingTree_GTRmodel_Trees; Containing 47 trees. \n",
      "RAxMLNGStartingTree_Trees; Containing 26 trees. \n",
      "UshERStartingTree_Trees; Containing 30 trees. \n",
      "TrueTreeSimulations; Containing 1 trees. \n",
      "\n"
     ]
    }
   ],
   "source": [
    "set_list = [os.path.join(maple_dir, tree) for tree in maple_tree]\n",
    "try:collection_maple = tree_set.set_collection(set_list, distance_matrix = \"DistMat_Maple.csv\")\n",
    "except:collection_maple = tree_set.set_collection(set_list)\n",
    "finally:print(collection_maple)"
   ]
  },
  {
   "cell_type": "code",
   "execution_count": 4,
   "id": "bd3bfd6e",
   "metadata": {},
   "outputs": [
    {
     "data": {
      "text/html": [
       "<div>\n",
       "<style scoped>\n",
       "    .dataframe tbody tr th:only-of-type {\n",
       "        vertical-align: middle;\n",
       "    }\n",
       "\n",
       "    .dataframe tbody tr th {\n",
       "        vertical-align: top;\n",
       "    }\n",
       "\n",
       "    .dataframe thead th {\n",
       "        text-align: right;\n",
       "    }\n",
       "</style>\n",
       "<table border=\"1\" class=\"dataframe\">\n",
       "  <thead>\n",
       "    <tr style=\"text-align: right;\">\n",
       "      <th></th>\n",
       "      <th>SET-ID</th>\n",
       "      <th>STEP</th>\n",
       "      <th>LK</th>\n",
       "    </tr>\n",
       "  </thead>\n",
       "  <tbody>\n",
       "    <tr>\n",
       "      <th>0</th>\n",
       "      <td>IQtreeStartingTree_Trees</td>\n",
       "      <td>0</td>\n",
       "      <td>0.983439</td>\n",
       "    </tr>\n",
       "    <tr>\n",
       "      <th>1</th>\n",
       "      <td>IQtreeStartingTree_Trees</td>\n",
       "      <td>1</td>\n",
       "      <td>0.983822</td>\n",
       "    </tr>\n",
       "    <tr>\n",
       "      <th>2</th>\n",
       "      <td>IQtreeStartingTree_Trees</td>\n",
       "      <td>2</td>\n",
       "      <td>0.984404</td>\n",
       "    </tr>\n",
       "    <tr>\n",
       "      <th>3</th>\n",
       "      <td>IQtreeStartingTree_Trees</td>\n",
       "      <td>3</td>\n",
       "      <td>0.985124</td>\n",
       "    </tr>\n",
       "    <tr>\n",
       "      <th>4</th>\n",
       "      <td>IQtreeStartingTree_Trees</td>\n",
       "      <td>4</td>\n",
       "      <td>0.985631</td>\n",
       "    </tr>\n",
       "    <tr>\n",
       "      <th>...</th>\n",
       "      <td>...</td>\n",
       "      <td>...</td>\n",
       "      <td>...</td>\n",
       "    </tr>\n",
       "    <tr>\n",
       "      <th>133</th>\n",
       "      <td>UshERStartingTree_Trees</td>\n",
       "      <td>26</td>\n",
       "      <td>0.999844</td>\n",
       "    </tr>\n",
       "    <tr>\n",
       "      <th>134</th>\n",
       "      <td>UshERStartingTree_Trees</td>\n",
       "      <td>27</td>\n",
       "      <td>0.999850</td>\n",
       "    </tr>\n",
       "    <tr>\n",
       "      <th>135</th>\n",
       "      <td>UshERStartingTree_Trees</td>\n",
       "      <td>28</td>\n",
       "      <td>0.999976</td>\n",
       "    </tr>\n",
       "    <tr>\n",
       "      <th>136</th>\n",
       "      <td>UshERStartingTree_Trees</td>\n",
       "      <td>29</td>\n",
       "      <td>1.000000</td>\n",
       "    </tr>\n",
       "    <tr>\n",
       "      <th>137</th>\n",
       "      <td>TrueTreeSimulations</td>\n",
       "      <td>0</td>\n",
       "      <td>0.706890</td>\n",
       "    </tr>\n",
       "  </tbody>\n",
       "</table>\n",
       "<p>138 rows × 3 columns</p>\n",
       "</div>"
      ],
      "text/plain": [
       "                       SET-ID  STEP        LK\n",
       "0    IQtreeStartingTree_Trees     0  0.983439\n",
       "1    IQtreeStartingTree_Trees     1  0.983822\n",
       "2    IQtreeStartingTree_Trees     2  0.984404\n",
       "3    IQtreeStartingTree_Trees     3  0.985124\n",
       "4    IQtreeStartingTree_Trees     4  0.985631\n",
       "..                        ...   ...       ...\n",
       "133   UshERStartingTree_Trees    26  0.999844\n",
       "134   UshERStartingTree_Trees    27  0.999850\n",
       "135   UshERStartingTree_Trees    28  0.999976\n",
       "136   UshERStartingTree_Trees    29  1.000000\n",
       "137       TrueTreeSimulations     0  0.706890\n",
       "\n",
       "[138 rows x 3 columns]"
      ]
     },
     "execution_count": 4,
     "metadata": {},
     "output_type": "execute_result"
    }
   ],
   "source": [
    "LKs = dict()\n",
    "for lk_file in maple_LK:\n",
    "    file = os.path.join(maple_dir, lk_file)\n",
    "    with open(file, 'r') as f:\n",
    "        LKs[lk_file] = np.array(f.readlines())\n",
    "        f.close()\n",
    "\n",
    "LK = list()\n",
    "for lk in LKs.values(): LK.extend(lk)\n",
    "\n",
    "LK = np.array([tree.replace('\\n', '') for tree in LK], dtype=np.float64)\n",
    "LK = np.concatenate([LK,np.array([-257513])], axis = 0)#-249113.58799196634\n",
    "LK = np.interp(LK, (LK.min(), LK.max()), (0, +1)) # scale LKs between 0 and 1\n",
    "\n",
    "collection_maple.metadata['LK'] = LK\n",
    "collection_maple.metadata"
   ]
  },
  {
   "cell_type": "code",
   "execution_count": 5,
   "id": "35db4aa6",
   "metadata": {},
   "outputs": [
    {
     "data": {
      "text/plain": [
       "(138, 138)"
      ]
     },
     "execution_count": 5,
     "metadata": {},
     "output_type": "execute_result"
    }
   ],
   "source": [
    "if collection_maple.distance_matrix is None:\n",
    "    start = time.time()\n",
    "    collection_maple.calculate_distances('days_RF')\n",
    "    np.savetxt(\"DistMat_Maple.csv\", collection_maple.distance_matrix, delimiter=\",\")\n",
    "    print(time.time() - start)\n",
    "collection_maple.distance_matrix.shape"
   ]
  },
  {
   "cell_type": "code",
   "execution_count": 8,
   "id": "99651cc3",
   "metadata": {},
   "outputs": [
    {
     "data": {
      "application/vnd.jupyter.widget-view+json": {
       "model_id": "3d723643b29d4fedb1f81f188006ee07",
       "version_major": 2,
       "version_minor": 0
      },
      "text/plain": [
       "VBox(children=(HBox(children=(Dropdown(description='Metadata:', index=1, options=('SET-ID', 'STEP', 'LK'), val…"
      ]
     },
     "metadata": {},
     "output_type": "display_data"
    }
   ],
   "source": [
    "collection_maple.plot_3D('pca', plot_meta = 'STEP', same_scale = True, select = True)"
   ]
  },
  {
   "cell_type": "code",
   "execution_count": 10,
   "id": "94f63ffc",
   "metadata": {},
   "outputs": [
    {
     "data": {
      "application/vnd.plotly.v1+json": {
       "config": {
        "plotlyServerURL": "https://plot.ly"
       },
       "data": [
        {
         "customdata": [
          0,
          1,
          2,
          3,
          4,
          5,
          6,
          7,
          8,
          9,
          10,
          11,
          12,
          13,
          14,
          15,
          16,
          17,
          18,
          19,
          20,
          21,
          22,
          23,
          24,
          25,
          26,
          27,
          28,
          0,
          1,
          2,
          3,
          4,
          0,
          1,
          2,
          3,
          4,
          5,
          6,
          7,
          8,
          9,
          10,
          11,
          12,
          13,
          14,
          15,
          16,
          17,
          18,
          19,
          20,
          21,
          22,
          23,
          24,
          25,
          26,
          27,
          28,
          29,
          30,
          31,
          32,
          33,
          34,
          35,
          36,
          37,
          38,
          39,
          40,
          41,
          42,
          43,
          44,
          45,
          46,
          0,
          1,
          2,
          3,
          4,
          5,
          6,
          7,
          8,
          9,
          10,
          11,
          12,
          13,
          14,
          15,
          16,
          17,
          18,
          19,
          20,
          21,
          22,
          23,
          24,
          25,
          0,
          1,
          2,
          3,
          4,
          5,
          6,
          7,
          8,
          9,
          10,
          11,
          12,
          13,
          14,
          15,
          16,
          17,
          18,
          19,
          20,
          21,
          22,
          23,
          24,
          25,
          26,
          27,
          28,
          29,
          0
         ],
         "hovertemplate": "<b>Trace: %{text}</b><br>Step: %{customdata}<br>x: %{x}<br>y: %{y}<br>z: %{z}<br>",
         "marker": {
          "cmax": 0,
          "cmin": 0,
          "color": [
           57,
           58,
           60,
           63,
           65,
           66,
           69,
           71,
           74,
           77,
           79,
           83,
           85,
           90,
           93,
           95,
           97,
           99,
           101,
           104,
           106,
           110,
           114,
           118,
           120,
           123,
           125,
           127,
           130
          ],
          "colorscale": [
           [
            0,
            "rgb(247,251,255)"
           ],
           [
            0.125,
            "rgb(222,235,247)"
           ],
           [
            0.25,
            "rgb(198,219,239)"
           ],
           [
            0.375,
            "rgb(158,202,225)"
           ],
           [
            0.5,
            "rgb(107,174,214)"
           ],
           [
            0.625,
            "rgb(66,146,198)"
           ],
           [
            0.75,
            "rgb(33,113,181)"
           ],
           [
            0.875,
            "rgb(8,81,156)"
           ],
           [
            1,
            "rgb(8,48,107)"
           ]
          ],
          "line": {
           "color": "rgba( 30, 30, 30, 0.3)",
           "width": 10
          },
          "size": [
           10,
           10,
           10,
           10,
           10,
           10,
           10,
           10,
           10,
           10,
           10,
           10,
           10,
           10,
           10,
           10,
           10,
           10,
           10,
           10,
           10,
           10,
           10,
           10,
           10,
           10,
           10,
           10,
           10
          ],
          "symbol": [
           "circle",
           "circle",
           "circle",
           "circle",
           "circle",
           "circle",
           "circle",
           "circle",
           "circle",
           "circle",
           "circle",
           "circle",
           "circle",
           "circle",
           "circle",
           "circle",
           "circle",
           "circle",
           "circle",
           "circle",
           "circle",
           "circle",
           "circle",
           "circle",
           "circle",
           "circle",
           "circle",
           "circle",
           "circle"
          ]
         },
         "mode": "markers",
         "name": "IQtreeStartingTree_Trees",
         "opacity": 0.7,
         "showlegend": false,
         "text": [
          "IQtreeStartingTree_Trees",
          "IQtreeStartingTree_Trees",
          "IQtreeStartingTree_Trees",
          "IQtreeStartingTree_Trees",
          "IQtreeStartingTree_Trees",
          "IQtreeStartingTree_Trees",
          "IQtreeStartingTree_Trees",
          "IQtreeStartingTree_Trees",
          "IQtreeStartingTree_Trees",
          "IQtreeStartingTree_Trees",
          "IQtreeStartingTree_Trees",
          "IQtreeStartingTree_Trees",
          "IQtreeStartingTree_Trees",
          "IQtreeStartingTree_Trees",
          "IQtreeStartingTree_Trees",
          "IQtreeStartingTree_Trees",
          "IQtreeStartingTree_Trees",
          "IQtreeStartingTree_Trees",
          "IQtreeStartingTree_Trees",
          "IQtreeStartingTree_Trees",
          "IQtreeStartingTree_Trees",
          "IQtreeStartingTree_Trees",
          "IQtreeStartingTree_Trees",
          "IQtreeStartingTree_Trees",
          "IQtreeStartingTree_Trees",
          "IQtreeStartingTree_Trees",
          "IQtreeStartingTree_Trees",
          "IQtreeStartingTree_Trees",
          "IQtreeStartingTree_Trees"
         ],
         "type": "scatter3d",
         "visible": true,
         "x": [
          -46.93082714843747,
          -56.09122432767226,
          -73.44514131464965,
          -76.82877345673278,
          -81.765697304933,
          -88.22940877426689,
          -92.75303335188387,
          -97.30253005300509,
          -100.22067867153665,
          -120.28999687829564,
          -132.91423984212167,
          -157.90555254739965,
          -160.29851171906614,
          -156.0289691119781,
          -171.29715705811734,
          -171.99983637435187,
          -172.13463679281892,
          -158.36183211235675,
          -166.011682362067,
          -168.0237769648214,
          -165.198234725238,
          -164.39374764216282,
          -161.37639678005837,
          -161.1965303697523,
          -165.4490477363242,
          -148.29351385755288,
          -147.09012191684587,
          -143.2261195299264,
          -127.70346018107945
         ],
         "y": [
          415.3536823987752,
          427.20627251115565,
          406.8171040757961,
          398.3086463342782,
          390.4721939593941,
          383.0327582013863,
          375.4728684429792,
          357.86640005734665,
          338.97202924632063,
          319.51218555756367,
          316.0875730867254,
          302.8129656635796,
          272.2783363772432,
          243.98120037140617,
          218.78343244450429,
          187.09592352154,
          155.14254515321258,
          135.7360565267146,
          117.46129618989133,
          101.41324389605879,
          58.29334766659815,
          26.147633784793584,
          -3.683717878784008,
          -15.089692181109106,
          -42.551485761816,
          -68.00045397183479,
          -59.05987993152889,
          -79.42100531668706,
          -85.82107212831343
         ],
         "z": [
          0.9834389820406717,
          0.9838216510621484,
          0.9844040875128784,
          0.9851244965776011,
          0.9856306256909807,
          0.9861367478108173,
          0.9867727443600044,
          0.98797429038034,
          0.9883560285649012,
          0.9897745682586838,
          0.9903716696284455,
          0.9914083208226809,
          0.9920900069121359,
          0.9929652610614461,
          0.9936241722368382,
          0.9944421273999617,
          0.9951131713899565,
          0.9955193694144758,
          0.9965121662136232,
          0.9973095841317264,
          0.9979730419913484,
          0.9986857301088391,
          0.9991596836326291,
          0.9993217239902887,
          0.9994451309212637,
          0.9995586755634769,
          0.9995827684588791,
          0.9997099306836249,
          0.9998226591340653
         ]
        },
        {
         "customdata": [
          0,
          1,
          2,
          3,
          4,
          5,
          6,
          7,
          8,
          9,
          10,
          11,
          12,
          13,
          14,
          15,
          16,
          17,
          18,
          19,
          20,
          21,
          22,
          23,
          24,
          25,
          26,
          27,
          28,
          0,
          1,
          2,
          3,
          4,
          0,
          1,
          2,
          3,
          4,
          5,
          6,
          7,
          8,
          9,
          10,
          11,
          12,
          13,
          14,
          15,
          16,
          17,
          18,
          19,
          20,
          21,
          22,
          23,
          24,
          25,
          26,
          27,
          28,
          29,
          30,
          31,
          32,
          33,
          34,
          35,
          36,
          37,
          38,
          39,
          40,
          41,
          42,
          43,
          44,
          45,
          46,
          0,
          1,
          2,
          3,
          4,
          5,
          6,
          7,
          8,
          9,
          10,
          11,
          12,
          13,
          14,
          15,
          16,
          17,
          18,
          19,
          20,
          21,
          22,
          23,
          24,
          25,
          0,
          1,
          2,
          3,
          4,
          5,
          6,
          7,
          8,
          9,
          10,
          11,
          12,
          13,
          14,
          15,
          16,
          17,
          18,
          19,
          20,
          21,
          22,
          23,
          24,
          25,
          26,
          27,
          28,
          29,
          0
         ],
         "hovertemplate": "<b>Trace: %{text}</b><br>Step: %{customdata}<br>x: %{x}<br>y: %{y}<br>z: %{z}<br>",
         "marker": {
          "cmax": 0,
          "cmin": 0,
          "color": [
           109,
           111,
           112,
           113,
           117
          ],
          "colorscale": [
           [
            0,
            "rgb(210, 251, 212)"
           ],
           [
            0.16666666666666666,
            "rgb(165, 219, 194)"
           ],
           [
            0.3333333333333333,
            "rgb(123, 188, 176)"
           ],
           [
            0.5,
            "rgb(85, 156, 158)"
           ],
           [
            0.6666666666666666,
            "rgb(58, 124, 137)"
           ],
           [
            0.8333333333333334,
            "rgb(35, 93, 114)"
           ],
           [
            1,
            "rgb(18, 63, 90)"
           ]
          ],
          "line": {
           "color": "rgba( 30, 30, 30, 0.3)",
           "width": 10
          },
          "size": [
           10,
           10,
           10,
           10,
           10
          ],
          "symbol": [
           "circle",
           "circle",
           "circle",
           "circle",
           "circle"
          ]
         },
         "mode": "markers",
         "name": "MapleStartingTree_Trees",
         "opacity": 0.7,
         "showlegend": false,
         "text": [
          "MapleStartingTree_Trees",
          "MapleStartingTree_Trees",
          "MapleStartingTree_Trees",
          "MapleStartingTree_Trees",
          "MapleStartingTree_Trees"
         ],
         "type": "scatter3d",
         "visible": true,
         "x": [
          -100.1855140929894,
          -115.52880862156209,
          -118.78972964513537,
          -124.48423620969498,
          -123.36706821870503
         ],
         "y": [
          -95.90550504515399,
          -112.80873576347321,
          -104.82489522539015,
          -98.80243859786418,
          -99.45691576178176
         ],
         "z": [
          0.9986023730484809,
          0.9989464630593513,
          0.9989862118330178,
          0.9991591466774581,
          0.9992857427316746
         ]
        },
        {
         "customdata": [
          0,
          1,
          2,
          3,
          4,
          5,
          6,
          7,
          8,
          9,
          10,
          11,
          12,
          13,
          14,
          15,
          16,
          17,
          18,
          19,
          20,
          21,
          22,
          23,
          24,
          25,
          26,
          27,
          28,
          0,
          1,
          2,
          3,
          4,
          0,
          1,
          2,
          3,
          4,
          5,
          6,
          7,
          8,
          9,
          10,
          11,
          12,
          13,
          14,
          15,
          16,
          17,
          18,
          19,
          20,
          21,
          22,
          23,
          24,
          25,
          26,
          27,
          28,
          29,
          30,
          31,
          32,
          33,
          34,
          35,
          36,
          37,
          38,
          39,
          40,
          41,
          42,
          43,
          44,
          45,
          46,
          0,
          1,
          2,
          3,
          4,
          5,
          6,
          7,
          8,
          9,
          10,
          11,
          12,
          13,
          14,
          15,
          16,
          17,
          18,
          19,
          20,
          21,
          22,
          23,
          24,
          25,
          0,
          1,
          2,
          3,
          4,
          5,
          6,
          7,
          8,
          9,
          10,
          11,
          12,
          13,
          14,
          15,
          16,
          17,
          18,
          19,
          20,
          21,
          22,
          23,
          24,
          25,
          26,
          27,
          28,
          29,
          0
         ],
         "hovertemplate": "<b>Trace: %{text}</b><br>Step: %{customdata}<br>x: %{x}<br>y: %{y}<br>z: %{z}<br>",
         "marker": {
          "cmax": 0,
          "cmin": 0,
          "color": [
           27,
           28,
           29,
           30,
           31,
           32,
           33,
           34,
           35,
           36,
           38,
           41,
           42,
           43,
           44,
           45,
           47,
           49,
           51,
           53,
           59,
           62,
           64,
           70,
           72,
           75,
           76,
           80,
           81,
           82,
           84,
           87,
           88,
           91,
           94,
           98,
           100,
           102,
           105,
           107,
           115,
           121,
           122,
           128,
           133,
           134,
           135
          ],
          "colorscale": [
           [
            0,
            "rgb(255,255,255)"
           ],
           [
            0.125,
            "rgb(240,240,240)"
           ],
           [
            0.25,
            "rgb(217,217,217)"
           ],
           [
            0.375,
            "rgb(189,189,189)"
           ],
           [
            0.5,
            "rgb(150,150,150)"
           ],
           [
            0.625,
            "rgb(115,115,115)"
           ],
           [
            0.75,
            "rgb(82,82,82)"
           ],
           [
            0.875,
            "rgb(37,37,37)"
           ],
           [
            1,
            "rgb(0,0,0)"
           ]
          ],
          "line": {
           "color": "rgba( 30, 30, 30, 0.3)",
           "width": 10
          },
          "size": [
           10,
           10,
           10,
           10,
           10,
           10,
           10,
           10,
           10,
           10,
           10,
           10,
           10,
           10,
           10,
           10,
           10,
           10,
           10,
           10,
           10,
           10,
           10,
           10,
           10,
           10,
           10,
           10,
           10,
           10,
           10,
           10,
           10,
           10,
           10,
           10,
           10,
           10,
           10,
           10,
           10,
           10,
           10,
           10,
           10,
           10,
           10
          ],
          "symbol": [
           "circle",
           "circle",
           "circle",
           "circle",
           "circle",
           "circle",
           "circle",
           "circle",
           "circle",
           "circle",
           "circle",
           "circle",
           "circle",
           "circle",
           "circle",
           "circle",
           "circle",
           "circle",
           "circle",
           "circle",
           "circle",
           "circle",
           "circle",
           "circle",
           "circle",
           "circle",
           "circle",
           "circle",
           "circle",
           "circle",
           "circle",
           "circle",
           "circle",
           "circle",
           "circle",
           "circle",
           "circle",
           "circle",
           "circle",
           "circle",
           "circle",
           "circle",
           "circle",
           "circle",
           "circle",
           "circle",
           "circle"
          ]
         },
         "mode": "markers",
         "name": "ParsimonyRAxMLStartingTree_GTRmodel_Trees",
         "opacity": 0.7,
         "showlegend": false,
         "text": [
          "ParsimonyRAxMLStartingTree_GTRmodel_Trees",
          "ParsimonyRAxMLStartingTree_GTRmodel_Trees",
          "ParsimonyRAxMLStartingTree_GTRmodel_Trees",
          "ParsimonyRAxMLStartingTree_GTRmodel_Trees",
          "ParsimonyRAxMLStartingTree_GTRmodel_Trees",
          "ParsimonyRAxMLStartingTree_GTRmodel_Trees",
          "ParsimonyRAxMLStartingTree_GTRmodel_Trees",
          "ParsimonyRAxMLStartingTree_GTRmodel_Trees",
          "ParsimonyRAxMLStartingTree_GTRmodel_Trees",
          "ParsimonyRAxMLStartingTree_GTRmodel_Trees",
          "ParsimonyRAxMLStartingTree_GTRmodel_Trees",
          "ParsimonyRAxMLStartingTree_GTRmodel_Trees",
          "ParsimonyRAxMLStartingTree_GTRmodel_Trees",
          "ParsimonyRAxMLStartingTree_GTRmodel_Trees",
          "ParsimonyRAxMLStartingTree_GTRmodel_Trees",
          "ParsimonyRAxMLStartingTree_GTRmodel_Trees",
          "ParsimonyRAxMLStartingTree_GTRmodel_Trees",
          "ParsimonyRAxMLStartingTree_GTRmodel_Trees",
          "ParsimonyRAxMLStartingTree_GTRmodel_Trees",
          "ParsimonyRAxMLStartingTree_GTRmodel_Trees",
          "ParsimonyRAxMLStartingTree_GTRmodel_Trees",
          "ParsimonyRAxMLStartingTree_GTRmodel_Trees",
          "ParsimonyRAxMLStartingTree_GTRmodel_Trees",
          "ParsimonyRAxMLStartingTree_GTRmodel_Trees",
          "ParsimonyRAxMLStartingTree_GTRmodel_Trees",
          "ParsimonyRAxMLStartingTree_GTRmodel_Trees",
          "ParsimonyRAxMLStartingTree_GTRmodel_Trees",
          "ParsimonyRAxMLStartingTree_GTRmodel_Trees",
          "ParsimonyRAxMLStartingTree_GTRmodel_Trees",
          "ParsimonyRAxMLStartingTree_GTRmodel_Trees",
          "ParsimonyRAxMLStartingTree_GTRmodel_Trees",
          "ParsimonyRAxMLStartingTree_GTRmodel_Trees",
          "ParsimonyRAxMLStartingTree_GTRmodel_Trees",
          "ParsimonyRAxMLStartingTree_GTRmodel_Trees",
          "ParsimonyRAxMLStartingTree_GTRmodel_Trees",
          "ParsimonyRAxMLStartingTree_GTRmodel_Trees",
          "ParsimonyRAxMLStartingTree_GTRmodel_Trees",
          "ParsimonyRAxMLStartingTree_GTRmodel_Trees",
          "ParsimonyRAxMLStartingTree_GTRmodel_Trees",
          "ParsimonyRAxMLStartingTree_GTRmodel_Trees",
          "ParsimonyRAxMLStartingTree_GTRmodel_Trees",
          "ParsimonyRAxMLStartingTree_GTRmodel_Trees",
          "ParsimonyRAxMLStartingTree_GTRmodel_Trees",
          "ParsimonyRAxMLStartingTree_GTRmodel_Trees",
          "ParsimonyRAxMLStartingTree_GTRmodel_Trees",
          "ParsimonyRAxMLStartingTree_GTRmodel_Trees",
          "ParsimonyRAxMLStartingTree_GTRmodel_Trees"
         ],
         "type": "scatter3d",
         "visible": true,
         "x": [
          405.89956960926077,
          408.9169204713652,
          412.5346356350046,
          409.7214075544403,
          407.6561143696664,
          404.6502762648803,
          400.6118238119496,
          397.50859103284137,
          390.4422499234381,
          387.6371019080664,
          381.8127605002071,
          374.3104705176126,
          374.02677759924757,
          371.44760249195883,
          367.9591862823231,
          365.1688952747493,
          352.41088146191663,
          337.8287330240184,
          335.0569644749391,
          320.6975475924695,
          296.37211943767556,
          274.0949520876059,
          271.36940478826074,
          253.86972146601886,
          251.24920406112963,
          239.85147031864892,
          240.45989312078365,
          216.87066613173508,
          216.28203139655236,
          201.96838007439646,
          176.69836053495303,
          164.074117571127,
          161.60927858494807,
          146.58922171128478,
          125.28525807741173,
          97.51712819489099,
          65.74914809689331,
          64.33454681491234,
          46.57704230947875,
          14.657459357172906,
          -3.965346063351149,
          -5.2595061469660935,
          -10.718113184054225,
          -22.30121345806364,
          -27.995720022623185,
          -31.256641046196517,
          -31.256641046196535
         ],
         "y": [
          179.72039201729083,
          149.88904035371328,
          125.33050985160027,
          117.7433264719088,
          107.5649682948638,
          99.45870663344644,
          93.93544149255028,
          86.44198970907705,
          70.10886865531816,
          62.541523746550126,
          54.948888347587605,
          48.78697467461343,
          48.88402292942857,
          39.21964683860482,
          40.146191268576615,
          32.594653301568286,
          8.461518787156525,
          -4.396660128235438,
          -11.927649648203364,
          -19.768771596999844,
          -37.11674128366903,
          -46.53533209968746,
          -54.05430630293321,
          -64.77956966501405,
          -70.53480146458683,
          -72.98751215343052,
          -83.28033264769049,
          -92.65976634378427,
          -102.93277010682887,
          -96.70731552691325,
          -119.98596098262618,
          -123.41057345346445,
          -131.03893893622302,
          -135.1080941323176,
          -133.87660995618344,
          -138.0500460518814,
          -146.79763367006817,
          -156.00858375026215,
          -147.18236959964955,
          -153.71522637151654,
          -161.5868794121891,
          -160.08823061160857,
          -154.65202106783613,
          -143.34166542310373,
          -137.31920879557774,
          -129.33536825749462,
          -129.33536825749465
         ],
         "z": [
          0.9700672945134877,
          0.9705412479272008,
          0.9709861015878891,
          0.9712343475425222,
          0.9721987423836931,
          0.9730398734093442,
          0.9737466880689561,
          0.9739949090965807,
          0.9742675890401901,
          0.974515843601646,
          0.9753335648896028,
          0.9781142669763091,
          0.9784730112752232,
          0.9788397301135983,
          0.9793989881555106,
          0.9796472409252359,
          0.9803066666455064,
          0.9806124534020891,
          0.9808606787052772,
          0.981502890948614,
          0.9842836250704059,
          0.9850736781544701,
          0.9853218989826009,
          0.9878543990753186,
          0.9881991456978511,
          0.9894122197644111,
          0.9896604738739865,
          0.9903829284940235,
          0.9906311501602939,
          0.9912923076111829,
          0.9919329511550166,
          0.9925281516974549,
          0.9927764303275964,
          0.9930703430129498,
          0.9942329951946998,
          0.9955084987849606,
          0.9963630067531779,
          0.9966112695839008,
          0.9976579655375789,
          0.998170213167428,
          0.9992057157081702,
          0.9994813123358276,
          0.9995511853608854,
          0.9997243740269116,
          0.999890532695813,
          0.9999323830247656,
          0.9999323861421731
         ]
        },
        {
         "customdata": [
          0,
          1,
          2,
          3,
          4,
          5,
          6,
          7,
          8,
          9,
          10,
          11,
          12,
          13,
          14,
          15,
          16,
          17,
          18,
          19,
          20,
          21,
          22,
          23,
          24,
          25,
          26,
          27,
          28,
          0,
          1,
          2,
          3,
          4,
          0,
          1,
          2,
          3,
          4,
          5,
          6,
          7,
          8,
          9,
          10,
          11,
          12,
          13,
          14,
          15,
          16,
          17,
          18,
          19,
          20,
          21,
          22,
          23,
          24,
          25,
          26,
          27,
          28,
          29,
          30,
          31,
          32,
          33,
          34,
          35,
          36,
          37,
          38,
          39,
          40,
          41,
          42,
          43,
          44,
          45,
          46,
          0,
          1,
          2,
          3,
          4,
          5,
          6,
          7,
          8,
          9,
          10,
          11,
          12,
          13,
          14,
          15,
          16,
          17,
          18,
          19,
          20,
          21,
          22,
          23,
          24,
          25,
          0,
          1,
          2,
          3,
          4,
          5,
          6,
          7,
          8,
          9,
          10,
          11,
          12,
          13,
          14,
          15,
          16,
          17,
          18,
          19,
          20,
          21,
          22,
          23,
          24,
          25,
          26,
          27,
          28,
          29,
          0
         ],
         "hovertemplate": "<b>Trace: %{text}</b><br>Step: %{customdata}<br>x: %{x}<br>y: %{y}<br>z: %{z}<br>",
         "marker": {
          "cmax": 0,
          "cmin": 0,
          "color": [
           0,
           137,
           2,
           3,
           4,
           5,
           6,
           7,
           8,
           9,
           10,
           11,
           12,
           13,
           14,
           15,
           16,
           17,
           18,
           19,
           20,
           21,
           22,
           23,
           24,
           25
          ],
          "colorscale": [
           [
            0,
            "rgb(243, 203, 211)"
           ],
           [
            0.16666666666666666,
            "rgb(234, 169, 189)"
           ],
           [
            0.3333333333333333,
            "rgb(221, 136, 172)"
           ],
           [
            0.5,
            "rgb(202, 105, 157)"
           ],
           [
            0.6666666666666666,
            "rgb(177, 77, 142)"
           ],
           [
            0.8333333333333334,
            "rgb(145, 53, 125)"
           ],
           [
            1,
            "rgb(108, 33, 103)"
           ]
          ],
          "line": {
           "color": "rgba( 30, 30, 30, 0.3)",
           "width": 10
          },
          "size": [
           10,
           10,
           10,
           10,
           10,
           10,
           10,
           10,
           10,
           10,
           10,
           10,
           10,
           10,
           10,
           10,
           10,
           10,
           10,
           10,
           10,
           10,
           10,
           10,
           10,
           10
          ],
          "symbol": [
           "circle",
           "circle",
           "circle",
           "circle",
           "circle",
           "circle",
           "circle",
           "circle",
           "circle",
           "circle",
           "circle",
           "circle",
           "circle",
           "circle",
           "circle",
           "circle",
           "circle",
           "circle",
           "circle",
           "circle",
           "circle",
           "circle",
           "circle",
           "circle",
           "circle",
           "circle"
          ]
         },
         "mode": "markers",
         "name": "RAxMLNGStartingTree_Trees",
         "opacity": 0.7,
         "showlegend": false,
         "text": [
          "RAxMLNGStartingTree_Trees",
          "RAxMLNGStartingTree_Trees",
          "RAxMLNGStartingTree_Trees",
          "RAxMLNGStartingTree_Trees",
          "RAxMLNGStartingTree_Trees",
          "RAxMLNGStartingTree_Trees",
          "RAxMLNGStartingTree_Trees",
          "RAxMLNGStartingTree_Trees",
          "RAxMLNGStartingTree_Trees",
          "RAxMLNGStartingTree_Trees",
          "RAxMLNGStartingTree_Trees",
          "RAxMLNGStartingTree_Trees",
          "RAxMLNGStartingTree_Trees",
          "RAxMLNGStartingTree_Trees",
          "RAxMLNGStartingTree_Trees",
          "RAxMLNGStartingTree_Trees",
          "RAxMLNGStartingTree_Trees",
          "RAxMLNGStartingTree_Trees",
          "RAxMLNGStartingTree_Trees",
          "RAxMLNGStartingTree_Trees",
          "RAxMLNGStartingTree_Trees",
          "RAxMLNGStartingTree_Trees",
          "RAxMLNGStartingTree_Trees",
          "RAxMLNGStartingTree_Trees",
          "RAxMLNGStartingTree_Trees",
          "RAxMLNGStartingTree_Trees"
         ],
         "type": "scatter3d",
         "visible": true,
         "x": [
          -126.78907486634809,
          -131.49263420986432,
          -132.69602615057119,
          -134.76131933534518,
          -135.21224295071957,
          -145.69346959773995,
          -146.14855054572539,
          -149.73192205067065,
          -152.11392213502745,
          -168.366899380089,
          -170.70399660064965,
          -171.21066418228588,
          -164.59443380277682,
          -180.73866836363513,
          -186.4331749281947,
          -198.0162752022041,
          -200.63679260709324,
          -206.09539964418136,
          -217.4931333866622,
          -216.8847105845274,
          -205.45631688748693,
          -189.93365753864012,
          -186.37479360439997,
          -169.21925972562863,
          -169.52689454930592,
          -172.78781557287934
         ],
         "y": [
          99.78961951266456,
          84.60878167578993,
          75.66820763548412,
          65.48984945843924,
          62.239978037716874,
          41.23243247338526,
          45.08388636071969,
          35.709167332489095,
          21.563909542499616,
          21.05427792864754,
          13.469654730402455,
          1.902461638221697,
          -18.83086144525392,
          -23.586103447188503,
          -17.563646819662548,
          -6.25329117493005,
          -12.00852297450284,
          -6.572313430730377,
          -9.025024119574148,
          -19.31784461383403,
          -46.431491114344745,
          -52.831557925971175,
          -38.71655369364088,
          -64.16552190365961,
          -47.42962376639731,
          -39.445783228314205
         ],
         "z": [
          0,
          0.002364135497163565,
          0.002633656491754218,
          0.003723409145471242,
          0.004769374177058976,
          0.0070085499305209695,
          0.007384410557894614,
          0.007923191299462522,
          0.008589726842259515,
          0.009366298156674283,
          0.009616712429330493,
          0.010038418362898989,
          0.010655244476686886,
          0.012083776130270516,
          0.012705421374105946,
          0.013172544746181954,
          0.01400297769595069,
          0.014481921631771357,
          0.016133820374626677,
          0.016382103146618313,
          0.016779383178819378,
          0.016892119949295882,
          0.016970195524193352,
          0.017179104212207898,
          0.01729710723821109,
          0.017474714341984998
         ]
        },
        {
         "customdata": [
          0,
          1,
          2,
          3,
          4,
          5,
          6,
          7,
          8,
          9,
          10,
          11,
          12,
          13,
          14,
          15,
          16,
          17,
          18,
          19,
          20,
          21,
          22,
          23,
          24,
          25,
          26,
          27,
          28,
          0,
          1,
          2,
          3,
          4,
          0,
          1,
          2,
          3,
          4,
          5,
          6,
          7,
          8,
          9,
          10,
          11,
          12,
          13,
          14,
          15,
          16,
          17,
          18,
          19,
          20,
          21,
          22,
          23,
          24,
          25,
          26,
          27,
          28,
          29,
          30,
          31,
          32,
          33,
          34,
          35,
          36,
          37,
          38,
          39,
          40,
          41,
          42,
          43,
          44,
          45,
          46,
          0,
          1,
          2,
          3,
          4,
          5,
          6,
          7,
          8,
          9,
          10,
          11,
          12,
          13,
          14,
          15,
          16,
          17,
          18,
          19,
          20,
          21,
          22,
          23,
          24,
          25,
          0,
          1,
          2,
          3,
          4,
          5,
          6,
          7,
          8,
          9,
          10,
          11,
          12,
          13,
          14,
          15,
          16,
          17,
          18,
          19,
          20,
          21,
          22,
          23,
          24,
          25,
          26,
          27,
          28,
          29,
          0
         ],
         "hovertemplate": "<b>Trace: %{text}</b><br>Step: %{customdata}<br>x: %{x}<br>y: %{y}<br>z: %{z}<br>",
         "marker": {
          "cmax": 0,
          "cmin": 0,
          "color": [
           26
          ],
          "colorscale": [
           [
            0,
            "#fb9a99"
           ],
           [
            0.5,
            "#fb9a99"
           ],
           [
            1,
            "#fb9a99"
           ]
          ],
          "line": {
           "color": "rgba( 30, 30, 30, 0.3)",
           "width": 10
          },
          "size": [
           10
          ],
          "symbol": [
           "circle"
          ]
         },
         "mode": "markers",
         "name": "TrueTreeSimulations",
         "opacity": 0.7,
         "showlegend": false,
         "text": [
          "TrueTreeSimulations"
         ],
         "type": "scatter3d",
         "visible": true,
         "x": [
          -9.23916066656199
         ],
         "y": [
          308.51650255413733
         ],
         "z": [
          0.7068901658026021
         ]
        },
        {
         "customdata": [
          0,
          1,
          2,
          3,
          4,
          5,
          6,
          7,
          8,
          9,
          10,
          11,
          12,
          13,
          14,
          15,
          16,
          17,
          18,
          19,
          20,
          21,
          22,
          23,
          24,
          25,
          26,
          27,
          28,
          0,
          1,
          2,
          3,
          4,
          0,
          1,
          2,
          3,
          4,
          5,
          6,
          7,
          8,
          9,
          10,
          11,
          12,
          13,
          14,
          15,
          16,
          17,
          18,
          19,
          20,
          21,
          22,
          23,
          24,
          25,
          26,
          27,
          28,
          29,
          30,
          31,
          32,
          33,
          34,
          35,
          36,
          37,
          38,
          39,
          40,
          41,
          42,
          43,
          44,
          45,
          46,
          0,
          1,
          2,
          3,
          4,
          5,
          6,
          7,
          8,
          9,
          10,
          11,
          12,
          13,
          14,
          15,
          16,
          17,
          18,
          19,
          20,
          21,
          22,
          23,
          24,
          25,
          0,
          1,
          2,
          3,
          4,
          5,
          6,
          7,
          8,
          9,
          10,
          11,
          12,
          13,
          14,
          15,
          16,
          17,
          18,
          19,
          20,
          21,
          22,
          23,
          24,
          25,
          26,
          27,
          28,
          29,
          0
         ],
         "hovertemplate": "<b>Trace: %{text}</b><br>Step: %{customdata}<br>x: %{x}<br>y: %{y}<br>z: %{z}<br>",
         "marker": {
          "cmax": 0,
          "cmin": 0,
          "color": [
           37,
           39,
           40,
           46,
           48,
           50,
           52,
           54,
           55,
           56,
           61,
           67,
           68,
           73,
           78,
           86,
           89,
           92,
           96,
           103,
           108,
           116,
           119,
           124,
           126,
           129,
           131,
           132,
           136,
           137
          ],
          "colorscale": [
           [
            0,
            "rgb(255,245,235)"
           ],
           [
            0.125,
            "rgb(254,230,206)"
           ],
           [
            0.25,
            "rgb(253,208,162)"
           ],
           [
            0.375,
            "rgb(253,174,107)"
           ],
           [
            0.5,
            "rgb(253,141,60)"
           ],
           [
            0.625,
            "rgb(241,105,19)"
           ],
           [
            0.75,
            "rgb(217,72,1)"
           ],
           [
            0.875,
            "rgb(166,54,3)"
           ],
           [
            1,
            "rgb(127,39,4)"
           ]
          ],
          "line": {
           "color": "rgba( 30, 30, 30, 0.3)",
           "width": 10
          },
          "size": [
           10,
           10,
           10,
           10,
           10,
           10,
           10,
           10,
           10,
           10,
           10,
           10,
           10,
           10,
           10,
           10,
           10,
           10,
           10,
           10,
           10,
           10,
           10,
           10,
           10,
           10,
           10,
           10,
           10,
           10
          ],
          "symbol": [
           "circle",
           "circle",
           "circle",
           "circle",
           "circle",
           "circle",
           "circle",
           "circle",
           "circle",
           "circle",
           "circle",
           "circle",
           "circle",
           "circle",
           "circle",
           "circle",
           "circle",
           "circle",
           "circle",
           "circle",
           "circle",
           "circle",
           "circle",
           "circle",
           "circle",
           "circle",
           "circle",
           "circle",
           "circle",
           "circle"
          ]
         },
         "mode": "markers",
         "name": "UshERStartingTree_Trees",
         "opacity": 0.7,
         "showlegend": false,
         "text": [
          "UshERStartingTree_Trees",
          "UshERStartingTree_Trees",
          "UshERStartingTree_Trees",
          "UshERStartingTree_Trees",
          "UshERStartingTree_Trees",
          "UshERStartingTree_Trees",
          "UshERStartingTree_Trees",
          "UshERStartingTree_Trees",
          "UshERStartingTree_Trees",
          "UshERStartingTree_Trees",
          "UshERStartingTree_Trees",
          "UshERStartingTree_Trees",
          "UshERStartingTree_Trees",
          "UshERStartingTree_Trees",
          "UshERStartingTree_Trees",
          "UshERStartingTree_Trees",
          "UshERStartingTree_Trees",
          "UshERStartingTree_Trees",
          "UshERStartingTree_Trees",
          "UshERStartingTree_Trees",
          "UshERStartingTree_Trees",
          "UshERStartingTree_Trees",
          "UshERStartingTree_Trees",
          "UshERStartingTree_Trees",
          "UshERStartingTree_Trees",
          "UshERStartingTree_Trees",
          "UshERStartingTree_Trees",
          "UshERStartingTree_Trees",
          "UshERStartingTree_Trees",
          "UshERStartingTree_Trees"
         ],
         "type": "scatter3d",
         "visible": true,
         "x": [
          -20.038068903669917,
          -22.349955658064047,
          -24.72849334065964,
          -27.0375227420621,
          -24.0201718799577,
          -24.526839461593926,
          -27.147356866483033,
          -38.545090608963875,
          -37.93666780682916,
          -52.296084689298695,
          -54.11118147660749,
          -56.8684786654211,
          -59.30208830033921,
          -60.86437087596697,
          -62.34302256356459,
          -65.13387150736924,
          -78.93141829580662,
          -93.95147516946993,
          -101.90881563028005,
          -104.76122658469475,
          -105.64558441772286,
          -109.68403687065351,
          -94.16137752180661,
          -99.8558840863662,
          -105.31449112345436,
          -116.89759139746374,
          -120.15851242103709,
          -120.15851242103709,
          -119.04134443004722,
          -117.8379524893402
         ],
         "y": [
          -22.888658173139643,
          -30.234819819690276,
          -37.50394860106818,
          -44.57722390179768,
          -74.40857556537537,
          -85.9757686575561,
          -91.73100045712894,
          -94.1837111459727,
          -104.47653164023244,
          -112.31765358902904,
          -117.79498715425507,
          -126.067740710303,
          -133.48333409419453,
          -138.22289617788982,
          -142.71891886540655,
          -151.22687897636297,
          -148.41830805593608,
          -152.48746325203072,
          -157.31442141704574,
          -167.06184694372854,
          -170.11234485870634,
          -175.63560999960254,
          -182.03567681122885,
          -176.01322018370288,
          -170.5770106399304,
          -159.266654995198,
          -151.2828144571149,
          -151.2828144571149,
          -151.93729162103256,
          -142.99671758072662
         ],
         "z": [
          0.9749631951512031,
          0.976279341584308,
          0.9779473526074957,
          0.9799017954421544,
          0.980375748867021,
          0.9807888390759901,
          0.9811327784252889,
          0.9823467347249853,
          0.9825949738185971,
          0.9831917470761882,
          0.9849785239649003,
          0.9862996007018916,
          0.9865478240118036,
          0.988204443972448,
          0.9901669531333946,
          0.9921830535834957,
          0.9928485790844681,
          0.9931316267197379,
          0.9948014810823455,
          0.9966363784601839,
          0.9985772594548527,
          0.9992849868137395,
          0.9993977538064339,
          0.9995632613456407,
          0.9996326687449995,
          0.9998060423970282,
          0.9998444854068155,
          0.9998497060727565,
          0.9999758011241915,
          1
         ]
        }
       ],
       "layout": {
        "annotations": [
         {
          "align": "left",
          "showarrow": false,
          "text": "<b>Points:",
          "x": 0,
          "xref": "paper",
          "y": 1.06,
          "yref": "paper"
         }
        ],
        "autosize": true,
        "height": 960,
        "margin": {
         "b": 100,
         "l": 0,
         "r": 0,
         "t": 0
        },
        "paper_bgcolor": "rgba(0,0,0,0)",
        "plot_bgcolor": "rgba(0,0,0,0)",
        "scene": {
         "aspectmode": "manual",
         "aspectratio": {
          "x": 1,
          "y": 1,
          "z": 1
         }
        },
        "template": {
         "data": {
          "bar": [
           {
            "error_x": {
             "color": "rgb(36,36,36)"
            },
            "error_y": {
             "color": "rgb(36,36,36)"
            },
            "marker": {
             "line": {
              "color": "rgb(234,234,242)",
              "width": 0.5
             },
             "pattern": {
              "fillmode": "overlay",
              "size": 10,
              "solidity": 0.2
             }
            },
            "type": "bar"
           }
          ],
          "barpolar": [
           {
            "marker": {
             "line": {
              "color": "rgb(234,234,242)",
              "width": 0.5
             },
             "pattern": {
              "fillmode": "overlay",
              "size": 10,
              "solidity": 0.2
             }
            },
            "type": "barpolar"
           }
          ],
          "carpet": [
           {
            "aaxis": {
             "endlinecolor": "rgb(36,36,36)",
             "gridcolor": "white",
             "linecolor": "white",
             "minorgridcolor": "white",
             "startlinecolor": "rgb(36,36,36)"
            },
            "baxis": {
             "endlinecolor": "rgb(36,36,36)",
             "gridcolor": "white",
             "linecolor": "white",
             "minorgridcolor": "white",
             "startlinecolor": "rgb(36,36,36)"
            },
            "type": "carpet"
           }
          ],
          "choropleth": [
           {
            "colorbar": {
             "outlinewidth": 0,
             "tickcolor": "rgb(36,36,36)",
             "ticklen": 8,
             "ticks": "outside",
             "tickwidth": 2
            },
            "type": "choropleth"
           }
          ],
          "contour": [
           {
            "colorbar": {
             "outlinewidth": 0,
             "tickcolor": "rgb(36,36,36)",
             "ticklen": 8,
             "ticks": "outside",
             "tickwidth": 2
            },
            "colorscale": [
             [
              0,
              "rgb(2,4,25)"
             ],
             [
              0.06274509803921569,
              "rgb(24,15,41)"
             ],
             [
              0.12549019607843137,
              "rgb(47,23,57)"
             ],
             [
              0.18823529411764706,
              "rgb(71,28,72)"
             ],
             [
              0.25098039215686274,
              "rgb(97,30,82)"
             ],
             [
              0.3137254901960784,
              "rgb(123,30,89)"
             ],
             [
              0.3764705882352941,
              "rgb(150,27,91)"
             ],
             [
              0.4392156862745098,
              "rgb(177,22,88)"
             ],
             [
              0.5019607843137255,
              "rgb(203,26,79)"
             ],
             [
              0.5647058823529412,
              "rgb(223,47,67)"
             ],
             [
              0.6274509803921569,
              "rgb(236,76,61)"
             ],
             [
              0.6901960784313725,
              "rgb(242,107,73)"
             ],
             [
              0.7529411764705882,
              "rgb(244,135,95)"
             ],
             [
              0.8156862745098039,
              "rgb(245,162,122)"
             ],
             [
              0.8784313725490196,
              "rgb(246,188,153)"
             ],
             [
              0.9411764705882353,
              "rgb(247,212,187)"
             ],
             [
              1,
              "rgb(250,234,220)"
             ]
            ],
            "type": "contour"
           }
          ],
          "contourcarpet": [
           {
            "colorbar": {
             "outlinewidth": 0,
             "tickcolor": "rgb(36,36,36)",
             "ticklen": 8,
             "ticks": "outside",
             "tickwidth": 2
            },
            "type": "contourcarpet"
           }
          ],
          "heatmap": [
           {
            "colorbar": {
             "outlinewidth": 0,
             "tickcolor": "rgb(36,36,36)",
             "ticklen": 8,
             "ticks": "outside",
             "tickwidth": 2
            },
            "colorscale": [
             [
              0,
              "rgb(2,4,25)"
             ],
             [
              0.06274509803921569,
              "rgb(24,15,41)"
             ],
             [
              0.12549019607843137,
              "rgb(47,23,57)"
             ],
             [
              0.18823529411764706,
              "rgb(71,28,72)"
             ],
             [
              0.25098039215686274,
              "rgb(97,30,82)"
             ],
             [
              0.3137254901960784,
              "rgb(123,30,89)"
             ],
             [
              0.3764705882352941,
              "rgb(150,27,91)"
             ],
             [
              0.4392156862745098,
              "rgb(177,22,88)"
             ],
             [
              0.5019607843137255,
              "rgb(203,26,79)"
             ],
             [
              0.5647058823529412,
              "rgb(223,47,67)"
             ],
             [
              0.6274509803921569,
              "rgb(236,76,61)"
             ],
             [
              0.6901960784313725,
              "rgb(242,107,73)"
             ],
             [
              0.7529411764705882,
              "rgb(244,135,95)"
             ],
             [
              0.8156862745098039,
              "rgb(245,162,122)"
             ],
             [
              0.8784313725490196,
              "rgb(246,188,153)"
             ],
             [
              0.9411764705882353,
              "rgb(247,212,187)"
             ],
             [
              1,
              "rgb(250,234,220)"
             ]
            ],
            "type": "heatmap"
           }
          ],
          "heatmapgl": [
           {
            "colorbar": {
             "outlinewidth": 0,
             "tickcolor": "rgb(36,36,36)",
             "ticklen": 8,
             "ticks": "outside",
             "tickwidth": 2
            },
            "colorscale": [
             [
              0,
              "rgb(2,4,25)"
             ],
             [
              0.06274509803921569,
              "rgb(24,15,41)"
             ],
             [
              0.12549019607843137,
              "rgb(47,23,57)"
             ],
             [
              0.18823529411764706,
              "rgb(71,28,72)"
             ],
             [
              0.25098039215686274,
              "rgb(97,30,82)"
             ],
             [
              0.3137254901960784,
              "rgb(123,30,89)"
             ],
             [
              0.3764705882352941,
              "rgb(150,27,91)"
             ],
             [
              0.4392156862745098,
              "rgb(177,22,88)"
             ],
             [
              0.5019607843137255,
              "rgb(203,26,79)"
             ],
             [
              0.5647058823529412,
              "rgb(223,47,67)"
             ],
             [
              0.6274509803921569,
              "rgb(236,76,61)"
             ],
             [
              0.6901960784313725,
              "rgb(242,107,73)"
             ],
             [
              0.7529411764705882,
              "rgb(244,135,95)"
             ],
             [
              0.8156862745098039,
              "rgb(245,162,122)"
             ],
             [
              0.8784313725490196,
              "rgb(246,188,153)"
             ],
             [
              0.9411764705882353,
              "rgb(247,212,187)"
             ],
             [
              1,
              "rgb(250,234,220)"
             ]
            ],
            "type": "heatmapgl"
           }
          ],
          "histogram": [
           {
            "marker": {
             "pattern": {
              "fillmode": "overlay",
              "size": 10,
              "solidity": 0.2
             }
            },
            "type": "histogram"
           }
          ],
          "histogram2d": [
           {
            "colorbar": {
             "outlinewidth": 0,
             "tickcolor": "rgb(36,36,36)",
             "ticklen": 8,
             "ticks": "outside",
             "tickwidth": 2
            },
            "colorscale": [
             [
              0,
              "rgb(2,4,25)"
             ],
             [
              0.06274509803921569,
              "rgb(24,15,41)"
             ],
             [
              0.12549019607843137,
              "rgb(47,23,57)"
             ],
             [
              0.18823529411764706,
              "rgb(71,28,72)"
             ],
             [
              0.25098039215686274,
              "rgb(97,30,82)"
             ],
             [
              0.3137254901960784,
              "rgb(123,30,89)"
             ],
             [
              0.3764705882352941,
              "rgb(150,27,91)"
             ],
             [
              0.4392156862745098,
              "rgb(177,22,88)"
             ],
             [
              0.5019607843137255,
              "rgb(203,26,79)"
             ],
             [
              0.5647058823529412,
              "rgb(223,47,67)"
             ],
             [
              0.6274509803921569,
              "rgb(236,76,61)"
             ],
             [
              0.6901960784313725,
              "rgb(242,107,73)"
             ],
             [
              0.7529411764705882,
              "rgb(244,135,95)"
             ],
             [
              0.8156862745098039,
              "rgb(245,162,122)"
             ],
             [
              0.8784313725490196,
              "rgb(246,188,153)"
             ],
             [
              0.9411764705882353,
              "rgb(247,212,187)"
             ],
             [
              1,
              "rgb(250,234,220)"
             ]
            ],
            "type": "histogram2d"
           }
          ],
          "histogram2dcontour": [
           {
            "colorbar": {
             "outlinewidth": 0,
             "tickcolor": "rgb(36,36,36)",
             "ticklen": 8,
             "ticks": "outside",
             "tickwidth": 2
            },
            "colorscale": [
             [
              0,
              "rgb(2,4,25)"
             ],
             [
              0.06274509803921569,
              "rgb(24,15,41)"
             ],
             [
              0.12549019607843137,
              "rgb(47,23,57)"
             ],
             [
              0.18823529411764706,
              "rgb(71,28,72)"
             ],
             [
              0.25098039215686274,
              "rgb(97,30,82)"
             ],
             [
              0.3137254901960784,
              "rgb(123,30,89)"
             ],
             [
              0.3764705882352941,
              "rgb(150,27,91)"
             ],
             [
              0.4392156862745098,
              "rgb(177,22,88)"
             ],
             [
              0.5019607843137255,
              "rgb(203,26,79)"
             ],
             [
              0.5647058823529412,
              "rgb(223,47,67)"
             ],
             [
              0.6274509803921569,
              "rgb(236,76,61)"
             ],
             [
              0.6901960784313725,
              "rgb(242,107,73)"
             ],
             [
              0.7529411764705882,
              "rgb(244,135,95)"
             ],
             [
              0.8156862745098039,
              "rgb(245,162,122)"
             ],
             [
              0.8784313725490196,
              "rgb(246,188,153)"
             ],
             [
              0.9411764705882353,
              "rgb(247,212,187)"
             ],
             [
              1,
              "rgb(250,234,220)"
             ]
            ],
            "type": "histogram2dcontour"
           }
          ],
          "mesh3d": [
           {
            "colorbar": {
             "outlinewidth": 0,
             "tickcolor": "rgb(36,36,36)",
             "ticklen": 8,
             "ticks": "outside",
             "tickwidth": 2
            },
            "type": "mesh3d"
           }
          ],
          "parcoords": [
           {
            "line": {
             "colorbar": {
              "outlinewidth": 0,
              "tickcolor": "rgb(36,36,36)",
              "ticklen": 8,
              "ticks": "outside",
              "tickwidth": 2
             }
            },
            "type": "parcoords"
           }
          ],
          "pie": [
           {
            "automargin": true,
            "type": "pie"
           }
          ],
          "scatter": [
           {
            "fillpattern": {
             "fillmode": "overlay",
             "size": 10,
             "solidity": 0.2
            },
            "type": "scatter"
           }
          ],
          "scatter3d": [
           {
            "line": {
             "colorbar": {
              "outlinewidth": 0,
              "tickcolor": "rgb(36,36,36)",
              "ticklen": 8,
              "ticks": "outside",
              "tickwidth": 2
             }
            },
            "marker": {
             "colorbar": {
              "outlinewidth": 0,
              "tickcolor": "rgb(36,36,36)",
              "ticklen": 8,
              "ticks": "outside",
              "tickwidth": 2
             }
            },
            "type": "scatter3d"
           }
          ],
          "scattercarpet": [
           {
            "marker": {
             "colorbar": {
              "outlinewidth": 0,
              "tickcolor": "rgb(36,36,36)",
              "ticklen": 8,
              "ticks": "outside",
              "tickwidth": 2
             }
            },
            "type": "scattercarpet"
           }
          ],
          "scattergeo": [
           {
            "marker": {
             "colorbar": {
              "outlinewidth": 0,
              "tickcolor": "rgb(36,36,36)",
              "ticklen": 8,
              "ticks": "outside",
              "tickwidth": 2
             }
            },
            "type": "scattergeo"
           }
          ],
          "scattergl": [
           {
            "marker": {
             "colorbar": {
              "outlinewidth": 0,
              "tickcolor": "rgb(36,36,36)",
              "ticklen": 8,
              "ticks": "outside",
              "tickwidth": 2
             }
            },
            "type": "scattergl"
           }
          ],
          "scattermapbox": [
           {
            "marker": {
             "colorbar": {
              "outlinewidth": 0,
              "tickcolor": "rgb(36,36,36)",
              "ticklen": 8,
              "ticks": "outside",
              "tickwidth": 2
             }
            },
            "type": "scattermapbox"
           }
          ],
          "scatterpolar": [
           {
            "marker": {
             "colorbar": {
              "outlinewidth": 0,
              "tickcolor": "rgb(36,36,36)",
              "ticklen": 8,
              "ticks": "outside",
              "tickwidth": 2
             }
            },
            "type": "scatterpolar"
           }
          ],
          "scatterpolargl": [
           {
            "marker": {
             "colorbar": {
              "outlinewidth": 0,
              "tickcolor": "rgb(36,36,36)",
              "ticklen": 8,
              "ticks": "outside",
              "tickwidth": 2
             }
            },
            "type": "scatterpolargl"
           }
          ],
          "scatterternary": [
           {
            "marker": {
             "colorbar": {
              "outlinewidth": 0,
              "tickcolor": "rgb(36,36,36)",
              "ticklen": 8,
              "ticks": "outside",
              "tickwidth": 2
             }
            },
            "type": "scatterternary"
           }
          ],
          "surface": [
           {
            "colorbar": {
             "outlinewidth": 0,
             "tickcolor": "rgb(36,36,36)",
             "ticklen": 8,
             "ticks": "outside",
             "tickwidth": 2
            },
            "colorscale": [
             [
              0,
              "rgb(2,4,25)"
             ],
             [
              0.06274509803921569,
              "rgb(24,15,41)"
             ],
             [
              0.12549019607843137,
              "rgb(47,23,57)"
             ],
             [
              0.18823529411764706,
              "rgb(71,28,72)"
             ],
             [
              0.25098039215686274,
              "rgb(97,30,82)"
             ],
             [
              0.3137254901960784,
              "rgb(123,30,89)"
             ],
             [
              0.3764705882352941,
              "rgb(150,27,91)"
             ],
             [
              0.4392156862745098,
              "rgb(177,22,88)"
             ],
             [
              0.5019607843137255,
              "rgb(203,26,79)"
             ],
             [
              0.5647058823529412,
              "rgb(223,47,67)"
             ],
             [
              0.6274509803921569,
              "rgb(236,76,61)"
             ],
             [
              0.6901960784313725,
              "rgb(242,107,73)"
             ],
             [
              0.7529411764705882,
              "rgb(244,135,95)"
             ],
             [
              0.8156862745098039,
              "rgb(245,162,122)"
             ],
             [
              0.8784313725490196,
              "rgb(246,188,153)"
             ],
             [
              0.9411764705882353,
              "rgb(247,212,187)"
             ],
             [
              1,
              "rgb(250,234,220)"
             ]
            ],
            "type": "surface"
           }
          ],
          "table": [
           {
            "cells": {
             "fill": {
              "color": "rgb(231,231,240)"
             },
             "line": {
              "color": "white"
             }
            },
            "header": {
             "fill": {
              "color": "rgb(183,183,191)"
             },
             "line": {
              "color": "white"
             }
            },
            "type": "table"
           }
          ]
         },
         "layout": {
          "annotationdefaults": {
           "arrowcolor": "rgb(67,103,167)"
          },
          "autotypenumbers": "strict",
          "coloraxis": {
           "colorbar": {
            "outlinewidth": 0,
            "tickcolor": "rgb(36,36,36)",
            "ticklen": 8,
            "ticks": "outside",
            "tickwidth": 2
           }
          },
          "colorscale": {
           "sequential": [
            [
             0,
             "rgb(2,4,25)"
            ],
            [
             0.06274509803921569,
             "rgb(24,15,41)"
            ],
            [
             0.12549019607843137,
             "rgb(47,23,57)"
            ],
            [
             0.18823529411764706,
             "rgb(71,28,72)"
            ],
            [
             0.25098039215686274,
             "rgb(97,30,82)"
            ],
            [
             0.3137254901960784,
             "rgb(123,30,89)"
            ],
            [
             0.3764705882352941,
             "rgb(150,27,91)"
            ],
            [
             0.4392156862745098,
             "rgb(177,22,88)"
            ],
            [
             0.5019607843137255,
             "rgb(203,26,79)"
            ],
            [
             0.5647058823529412,
             "rgb(223,47,67)"
            ],
            [
             0.6274509803921569,
             "rgb(236,76,61)"
            ],
            [
             0.6901960784313725,
             "rgb(242,107,73)"
            ],
            [
             0.7529411764705882,
             "rgb(244,135,95)"
            ],
            [
             0.8156862745098039,
             "rgb(245,162,122)"
            ],
            [
             0.8784313725490196,
             "rgb(246,188,153)"
            ],
            [
             0.9411764705882353,
             "rgb(247,212,187)"
            ],
            [
             1,
             "rgb(250,234,220)"
            ]
           ],
           "sequentialminus": [
            [
             0,
             "rgb(2,4,25)"
            ],
            [
             0.06274509803921569,
             "rgb(24,15,41)"
            ],
            [
             0.12549019607843137,
             "rgb(47,23,57)"
            ],
            [
             0.18823529411764706,
             "rgb(71,28,72)"
            ],
            [
             0.25098039215686274,
             "rgb(97,30,82)"
            ],
            [
             0.3137254901960784,
             "rgb(123,30,89)"
            ],
            [
             0.3764705882352941,
             "rgb(150,27,91)"
            ],
            [
             0.4392156862745098,
             "rgb(177,22,88)"
            ],
            [
             0.5019607843137255,
             "rgb(203,26,79)"
            ],
            [
             0.5647058823529412,
             "rgb(223,47,67)"
            ],
            [
             0.6274509803921569,
             "rgb(236,76,61)"
            ],
            [
             0.6901960784313725,
             "rgb(242,107,73)"
            ],
            [
             0.7529411764705882,
             "rgb(244,135,95)"
            ],
            [
             0.8156862745098039,
             "rgb(245,162,122)"
            ],
            [
             0.8784313725490196,
             "rgb(246,188,153)"
            ],
            [
             0.9411764705882353,
             "rgb(247,212,187)"
            ],
            [
             1,
             "rgb(250,234,220)"
            ]
           ]
          },
          "colorway": [
           "rgb(76,114,176)",
           "rgb(221,132,82)",
           "rgb(85,168,104)",
           "rgb(196,78,82)",
           "rgb(129,114,179)",
           "rgb(147,120,96)",
           "rgb(218,139,195)",
           "rgb(140,140,140)",
           "rgb(204,185,116)",
           "rgb(100,181,205)"
          ],
          "font": {
           "color": "rgb(36,36,36)"
          },
          "geo": {
           "bgcolor": "white",
           "lakecolor": "white",
           "landcolor": "rgb(234,234,242)",
           "showlakes": true,
           "showland": true,
           "subunitcolor": "white"
          },
          "hoverlabel": {
           "align": "left"
          },
          "hovermode": "closest",
          "paper_bgcolor": "white",
          "plot_bgcolor": "rgb(234,234,242)",
          "polar": {
           "angularaxis": {
            "gridcolor": "white",
            "linecolor": "white",
            "showgrid": true,
            "ticks": ""
           },
           "bgcolor": "rgb(234,234,242)",
           "radialaxis": {
            "gridcolor": "white",
            "linecolor": "white",
            "showgrid": true,
            "ticks": ""
           }
          },
          "scene": {
           "xaxis": {
            "backgroundcolor": "rgb(234,234,242)",
            "gridcolor": "white",
            "gridwidth": 2,
            "linecolor": "white",
            "showbackground": true,
            "showgrid": true,
            "ticks": "",
            "zerolinecolor": "white"
           },
           "yaxis": {
            "backgroundcolor": "rgb(234,234,242)",
            "gridcolor": "white",
            "gridwidth": 2,
            "linecolor": "white",
            "showbackground": true,
            "showgrid": true,
            "ticks": "",
            "zerolinecolor": "white"
           },
           "zaxis": {
            "backgroundcolor": "rgb(234,234,242)",
            "gridcolor": "white",
            "gridwidth": 2,
            "linecolor": "white",
            "showbackground": true,
            "showgrid": true,
            "ticks": "",
            "zerolinecolor": "white"
           }
          },
          "shapedefaults": {
           "fillcolor": "rgb(67,103,167)",
           "line": {
            "width": 0
           },
           "opacity": 0.5
          },
          "ternary": {
           "aaxis": {
            "gridcolor": "white",
            "linecolor": "white",
            "showgrid": true,
            "ticks": ""
           },
           "baxis": {
            "gridcolor": "white",
            "linecolor": "white",
            "showgrid": true,
            "ticks": ""
           },
           "bgcolor": "rgb(234,234,242)",
           "caxis": {
            "gridcolor": "white",
            "linecolor": "white",
            "showgrid": true,
            "ticks": ""
           }
          },
          "xaxis": {
           "automargin": true,
           "gridcolor": "white",
           "linecolor": "white",
           "showgrid": true,
           "ticks": "",
           "title": {
            "standoff": 15
           },
           "zerolinecolor": "white"
          },
          "yaxis": {
           "automargin": true,
           "gridcolor": "white",
           "linecolor": "white",
           "showgrid": true,
           "ticks": "",
           "title": {
            "standoff": 15
           },
           "zerolinecolor": "white"
          }
         }
        },
        "updatemenus": [
         {
          "buttons": [
           {
            "args": [
             {
              "mode": [
               "markers",
               "markers",
               "markers",
               "markers",
               "markers",
               "markers"
              ]
             }
            ],
            "label": "Markers",
            "method": "restyle"
           },
           {
            "args": [
             {
              "mode": [
               "lines+markers",
               "lines+markers",
               "lines+markers",
               "lines+markers",
               "lines+markers",
               "lines+markers"
              ]
             }
            ],
            "label": "Markers & Lines",
            "method": "restyle"
           }
          ],
          "direction": "left",
          "pad": {
           "r": 10,
           "t": 10
          },
          "showactive": true,
          "type": "buttons",
          "x": 0.1,
          "xanchor": "left",
          "y": 1.09,
          "yanchor": "top"
         },
         {
          "buttons": [
           {
            "args": [
             {
              "visible": true
             },
             [
              0
             ]
            ],
            "args2": [
             {
              "visible": false
             },
             [
              0
             ]
            ],
            "label": "Show IQtreeStartingT...",
            "method": "restyle"
           }
          ],
          "direction": "left",
          "pad": {
           "r": 0,
           "t": 0
          },
          "showactive": true,
          "type": "buttons",
          "x": 0,
          "xanchor": "left",
          "y": 1.2,
          "yanchor": "top"
         },
         {
          "buttons": [
           {
            "args": [
             {
              "visible": true
             },
             [
              1
             ]
            ],
            "args2": [
             {
              "visible": false
             },
             [
              1
             ]
            ],
            "label": "Show MapleStartingTr...",
            "method": "restyle"
           }
          ],
          "direction": "left",
          "pad": {
           "r": 0,
           "t": 0
          },
          "showactive": true,
          "type": "buttons",
          "x": 0,
          "xanchor": "left",
          "y": 1.27,
          "yanchor": "top"
         },
         {
          "buttons": [
           {
            "args": [
             {
              "visible": true
             },
             [
              2
             ]
            ],
            "args2": [
             {
              "visible": false
             },
             [
              2
             ]
            ],
            "label": "Show ParsimonyRAxMLS...",
            "method": "restyle"
           }
          ],
          "direction": "left",
          "pad": {
           "r": 0,
           "t": 0
          },
          "showactive": true,
          "type": "buttons",
          "x": 0,
          "xanchor": "left",
          "y": 1.3399999999999999,
          "yanchor": "top"
         },
         {
          "buttons": [
           {
            "args": [
             {
              "visible": true
             },
             [
              3
             ]
            ],
            "args2": [
             {
              "visible": false
             },
             [
              3
             ]
            ],
            "label": "Show RAxMLNGStarting...",
            "method": "restyle"
           }
          ],
          "direction": "left",
          "pad": {
           "r": 0,
           "t": 0
          },
          "showactive": true,
          "type": "buttons",
          "x": 0.25,
          "xanchor": "left",
          "y": 1.2,
          "yanchor": "top"
         },
         {
          "buttons": [
           {
            "args": [
             {
              "visible": true
             },
             [
              4
             ]
            ],
            "args2": [
             {
              "visible": false
             },
             [
              4
             ]
            ],
            "label": "Show TrueTreeSimulat...",
            "method": "restyle"
           }
          ],
          "direction": "left",
          "pad": {
           "r": 0,
           "t": 0
          },
          "showactive": true,
          "type": "buttons",
          "x": 0.25,
          "xanchor": "left",
          "y": 1.27,
          "yanchor": "top"
         },
         {
          "buttons": [
           {
            "args": [
             {
              "visible": true
             },
             [
              5
             ]
            ],
            "args2": [
             {
              "visible": false
             },
             [
              5
             ]
            ],
            "label": "Show UshERStartingTr...",
            "method": "restyle"
           }
          ],
          "direction": "left",
          "pad": {
           "r": 0,
           "t": 0
          },
          "showactive": true,
          "type": "buttons",
          "x": 0.25,
          "xanchor": "left",
          "y": 1.3399999999999999,
          "yanchor": "top"
         }
        ],
        "width": 900
       }
      },
      "text/html": [
       "<div>                            <div id=\"322dfdd0-5cff-49bb-9f17-f60232c66e1e\" class=\"plotly-graph-div\" style=\"height:960px; width:900px;\"></div>            <script type=\"text/javascript\">                require([\"plotly\"], function(Plotly) {                    window.PLOTLYENV=window.PLOTLYENV || {};                                    if (document.getElementById(\"322dfdd0-5cff-49bb-9f17-f60232c66e1e\")) {                    Plotly.newPlot(                        \"322dfdd0-5cff-49bb-9f17-f60232c66e1e\",                        [{\"customdata\":[0,1,2,3,4,5,6,7,8,9,10,11,12,13,14,15,16,17,18,19,20,21,22,23,24,25,26,27,28,0,1,2,3,4,0,1,2,3,4,5,6,7,8,9,10,11,12,13,14,15,16,17,18,19,20,21,22,23,24,25,26,27,28,29,30,31,32,33,34,35,36,37,38,39,40,41,42,43,44,45,46,0,1,2,3,4,5,6,7,8,9,10,11,12,13,14,15,16,17,18,19,20,21,22,23,24,25,0,1,2,3,4,5,6,7,8,9,10,11,12,13,14,15,16,17,18,19,20,21,22,23,24,25,26,27,28,29,0],\"hovertemplate\":\"<b>Trace: %{text}</b><br>Step: %{customdata}<br>x: %{x}<br>y: %{y}<br>z: %{z}<br>\",\"marker\":{\"cmax\":0,\"cmin\":0,\"color\":[57.0,58.0,60.0,63.0,65.0,66.0,69.0,71.0,74.0,77.0,79.0,83.0,85.0,90.0,93.0,95.0,97.0,99.0,101.0,104.0,106.0,110.0,114.0,118.0,120.0,123.0,125.0,127.0,130.0],\"colorscale\":[[0.0,\"rgb(247,251,255)\"],[0.125,\"rgb(222,235,247)\"],[0.25,\"rgb(198,219,239)\"],[0.375,\"rgb(158,202,225)\"],[0.5,\"rgb(107,174,214)\"],[0.625,\"rgb(66,146,198)\"],[0.75,\"rgb(33,113,181)\"],[0.875,\"rgb(8,81,156)\"],[1.0,\"rgb(8,48,107)\"]],\"line\":{\"color\":\"rgba( 30, 30, 30, 0.3)\",\"width\":10},\"size\":[10,10,10,10,10,10,10,10,10,10,10,10,10,10,10,10,10,10,10,10,10,10,10,10,10,10,10,10,10],\"symbol\":[\"circle\",\"circle\",\"circle\",\"circle\",\"circle\",\"circle\",\"circle\",\"circle\",\"circle\",\"circle\",\"circle\",\"circle\",\"circle\",\"circle\",\"circle\",\"circle\",\"circle\",\"circle\",\"circle\",\"circle\",\"circle\",\"circle\",\"circle\",\"circle\",\"circle\",\"circle\",\"circle\",\"circle\",\"circle\"]},\"mode\":\"markers\",\"name\":\"IQtreeStartingTree_Trees\",\"opacity\":0.7,\"showlegend\":false,\"text\":[\"IQtreeStartingTree_Trees\",\"IQtreeStartingTree_Trees\",\"IQtreeStartingTree_Trees\",\"IQtreeStartingTree_Trees\",\"IQtreeStartingTree_Trees\",\"IQtreeStartingTree_Trees\",\"IQtreeStartingTree_Trees\",\"IQtreeStartingTree_Trees\",\"IQtreeStartingTree_Trees\",\"IQtreeStartingTree_Trees\",\"IQtreeStartingTree_Trees\",\"IQtreeStartingTree_Trees\",\"IQtreeStartingTree_Trees\",\"IQtreeStartingTree_Trees\",\"IQtreeStartingTree_Trees\",\"IQtreeStartingTree_Trees\",\"IQtreeStartingTree_Trees\",\"IQtreeStartingTree_Trees\",\"IQtreeStartingTree_Trees\",\"IQtreeStartingTree_Trees\",\"IQtreeStartingTree_Trees\",\"IQtreeStartingTree_Trees\",\"IQtreeStartingTree_Trees\",\"IQtreeStartingTree_Trees\",\"IQtreeStartingTree_Trees\",\"IQtreeStartingTree_Trees\",\"IQtreeStartingTree_Trees\",\"IQtreeStartingTree_Trees\",\"IQtreeStartingTree_Trees\"],\"visible\":true,\"x\":[-46.93082714843747,-56.09122432767226,-73.44514131464965,-76.82877345673278,-81.765697304933,-88.22940877426689,-92.75303335188387,-97.30253005300509,-100.22067867153665,-120.28999687829564,-132.91423984212167,-157.90555254739965,-160.29851171906614,-156.0289691119781,-171.29715705811734,-171.99983637435187,-172.13463679281892,-158.36183211235675,-166.011682362067,-168.0237769648214,-165.198234725238,-164.39374764216282,-161.37639678005837,-161.1965303697523,-165.4490477363242,-148.29351385755288,-147.09012191684587,-143.2261195299264,-127.70346018107945],\"y\":[415.3536823987752,427.20627251115565,406.8171040757961,398.3086463342782,390.4721939593941,383.0327582013863,375.4728684429792,357.86640005734665,338.97202924632063,319.51218555756367,316.0875730867254,302.8129656635796,272.2783363772432,243.98120037140617,218.78343244450429,187.09592352154,155.14254515321258,135.7360565267146,117.46129618989133,101.41324389605879,58.29334766659815,26.147633784793584,-3.683717878784008,-15.089692181109106,-42.551485761816,-68.00045397183479,-59.05987993152889,-79.42100531668706,-85.82107212831343],\"z\":[0.9834389820406717,0.9838216510621484,0.9844040875128784,0.9851244965776011,0.9856306256909807,0.9861367478108173,0.9867727443600044,0.98797429038034,0.9883560285649012,0.9897745682586838,0.9903716696284455,0.9914083208226809,0.9920900069121359,0.9929652610614461,0.9936241722368382,0.9944421273999617,0.9951131713899565,0.9955193694144758,0.9965121662136232,0.9973095841317264,0.9979730419913484,0.9986857301088391,0.9991596836326291,0.9993217239902887,0.9994451309212637,0.9995586755634769,0.9995827684588791,0.9997099306836249,0.9998226591340653],\"type\":\"scatter3d\"},{\"customdata\":[0,1,2,3,4,5,6,7,8,9,10,11,12,13,14,15,16,17,18,19,20,21,22,23,24,25,26,27,28,0,1,2,3,4,0,1,2,3,4,5,6,7,8,9,10,11,12,13,14,15,16,17,18,19,20,21,22,23,24,25,26,27,28,29,30,31,32,33,34,35,36,37,38,39,40,41,42,43,44,45,46,0,1,2,3,4,5,6,7,8,9,10,11,12,13,14,15,16,17,18,19,20,21,22,23,24,25,0,1,2,3,4,5,6,7,8,9,10,11,12,13,14,15,16,17,18,19,20,21,22,23,24,25,26,27,28,29,0],\"hovertemplate\":\"<b>Trace: %{text}</b><br>Step: %{customdata}<br>x: %{x}<br>y: %{y}<br>z: %{z}<br>\",\"marker\":{\"cmax\":0,\"cmin\":0,\"color\":[109.0,111.0,112.0,113.0,117.0],\"colorscale\":[[0.0,\"rgb(210, 251, 212)\"],[0.16666666666666666,\"rgb(165, 219, 194)\"],[0.3333333333333333,\"rgb(123, 188, 176)\"],[0.5,\"rgb(85, 156, 158)\"],[0.6666666666666666,\"rgb(58, 124, 137)\"],[0.8333333333333334,\"rgb(35, 93, 114)\"],[1.0,\"rgb(18, 63, 90)\"]],\"line\":{\"color\":\"rgba( 30, 30, 30, 0.3)\",\"width\":10},\"size\":[10,10,10,10,10],\"symbol\":[\"circle\",\"circle\",\"circle\",\"circle\",\"circle\"]},\"mode\":\"markers\",\"name\":\"MapleStartingTree_Trees\",\"opacity\":0.7,\"showlegend\":false,\"text\":[\"MapleStartingTree_Trees\",\"MapleStartingTree_Trees\",\"MapleStartingTree_Trees\",\"MapleStartingTree_Trees\",\"MapleStartingTree_Trees\"],\"visible\":true,\"x\":[-100.1855140929894,-115.52880862156209,-118.78972964513537,-124.48423620969498,-123.36706821870503],\"y\":[-95.90550504515399,-112.80873576347321,-104.82489522539015,-98.80243859786418,-99.45691576178176],\"z\":[0.9986023730484809,0.9989464630593513,0.9989862118330178,0.9991591466774581,0.9992857427316746],\"type\":\"scatter3d\"},{\"customdata\":[0,1,2,3,4,5,6,7,8,9,10,11,12,13,14,15,16,17,18,19,20,21,22,23,24,25,26,27,28,0,1,2,3,4,0,1,2,3,4,5,6,7,8,9,10,11,12,13,14,15,16,17,18,19,20,21,22,23,24,25,26,27,28,29,30,31,32,33,34,35,36,37,38,39,40,41,42,43,44,45,46,0,1,2,3,4,5,6,7,8,9,10,11,12,13,14,15,16,17,18,19,20,21,22,23,24,25,0,1,2,3,4,5,6,7,8,9,10,11,12,13,14,15,16,17,18,19,20,21,22,23,24,25,26,27,28,29,0],\"hovertemplate\":\"<b>Trace: %{text}</b><br>Step: %{customdata}<br>x: %{x}<br>y: %{y}<br>z: %{z}<br>\",\"marker\":{\"cmax\":0,\"cmin\":0,\"color\":[27.0,28.0,29.0,30.0,31.0,32.0,33.0,34.0,35.0,36.0,38.0,41.0,42.0,43.0,44.0,45.0,47.0,49.0,51.0,53.0,59.0,62.0,64.0,70.0,72.0,75.0,76.0,80.0,81.0,82.0,84.0,87.0,88.0,91.0,94.0,98.0,100.0,102.0,105.0,107.0,115.0,121.0,122.0,128.0,133.0,134.0,135.0],\"colorscale\":[[0.0,\"rgb(255,255,255)\"],[0.125,\"rgb(240,240,240)\"],[0.25,\"rgb(217,217,217)\"],[0.375,\"rgb(189,189,189)\"],[0.5,\"rgb(150,150,150)\"],[0.625,\"rgb(115,115,115)\"],[0.75,\"rgb(82,82,82)\"],[0.875,\"rgb(37,37,37)\"],[1.0,\"rgb(0,0,0)\"]],\"line\":{\"color\":\"rgba( 30, 30, 30, 0.3)\",\"width\":10},\"size\":[10,10,10,10,10,10,10,10,10,10,10,10,10,10,10,10,10,10,10,10,10,10,10,10,10,10,10,10,10,10,10,10,10,10,10,10,10,10,10,10,10,10,10,10,10,10,10],\"symbol\":[\"circle\",\"circle\",\"circle\",\"circle\",\"circle\",\"circle\",\"circle\",\"circle\",\"circle\",\"circle\",\"circle\",\"circle\",\"circle\",\"circle\",\"circle\",\"circle\",\"circle\",\"circle\",\"circle\",\"circle\",\"circle\",\"circle\",\"circle\",\"circle\",\"circle\",\"circle\",\"circle\",\"circle\",\"circle\",\"circle\",\"circle\",\"circle\",\"circle\",\"circle\",\"circle\",\"circle\",\"circle\",\"circle\",\"circle\",\"circle\",\"circle\",\"circle\",\"circle\",\"circle\",\"circle\",\"circle\",\"circle\"]},\"mode\":\"markers\",\"name\":\"ParsimonyRAxMLStartingTree_GTRmodel_Trees\",\"opacity\":0.7,\"showlegend\":false,\"text\":[\"ParsimonyRAxMLStartingTree_GTRmodel_Trees\",\"ParsimonyRAxMLStartingTree_GTRmodel_Trees\",\"ParsimonyRAxMLStartingTree_GTRmodel_Trees\",\"ParsimonyRAxMLStartingTree_GTRmodel_Trees\",\"ParsimonyRAxMLStartingTree_GTRmodel_Trees\",\"ParsimonyRAxMLStartingTree_GTRmodel_Trees\",\"ParsimonyRAxMLStartingTree_GTRmodel_Trees\",\"ParsimonyRAxMLStartingTree_GTRmodel_Trees\",\"ParsimonyRAxMLStartingTree_GTRmodel_Trees\",\"ParsimonyRAxMLStartingTree_GTRmodel_Trees\",\"ParsimonyRAxMLStartingTree_GTRmodel_Trees\",\"ParsimonyRAxMLStartingTree_GTRmodel_Trees\",\"ParsimonyRAxMLStartingTree_GTRmodel_Trees\",\"ParsimonyRAxMLStartingTree_GTRmodel_Trees\",\"ParsimonyRAxMLStartingTree_GTRmodel_Trees\",\"ParsimonyRAxMLStartingTree_GTRmodel_Trees\",\"ParsimonyRAxMLStartingTree_GTRmodel_Trees\",\"ParsimonyRAxMLStartingTree_GTRmodel_Trees\",\"ParsimonyRAxMLStartingTree_GTRmodel_Trees\",\"ParsimonyRAxMLStartingTree_GTRmodel_Trees\",\"ParsimonyRAxMLStartingTree_GTRmodel_Trees\",\"ParsimonyRAxMLStartingTree_GTRmodel_Trees\",\"ParsimonyRAxMLStartingTree_GTRmodel_Trees\",\"ParsimonyRAxMLStartingTree_GTRmodel_Trees\",\"ParsimonyRAxMLStartingTree_GTRmodel_Trees\",\"ParsimonyRAxMLStartingTree_GTRmodel_Trees\",\"ParsimonyRAxMLStartingTree_GTRmodel_Trees\",\"ParsimonyRAxMLStartingTree_GTRmodel_Trees\",\"ParsimonyRAxMLStartingTree_GTRmodel_Trees\",\"ParsimonyRAxMLStartingTree_GTRmodel_Trees\",\"ParsimonyRAxMLStartingTree_GTRmodel_Trees\",\"ParsimonyRAxMLStartingTree_GTRmodel_Trees\",\"ParsimonyRAxMLStartingTree_GTRmodel_Trees\",\"ParsimonyRAxMLStartingTree_GTRmodel_Trees\",\"ParsimonyRAxMLStartingTree_GTRmodel_Trees\",\"ParsimonyRAxMLStartingTree_GTRmodel_Trees\",\"ParsimonyRAxMLStartingTree_GTRmodel_Trees\",\"ParsimonyRAxMLStartingTree_GTRmodel_Trees\",\"ParsimonyRAxMLStartingTree_GTRmodel_Trees\",\"ParsimonyRAxMLStartingTree_GTRmodel_Trees\",\"ParsimonyRAxMLStartingTree_GTRmodel_Trees\",\"ParsimonyRAxMLStartingTree_GTRmodel_Trees\",\"ParsimonyRAxMLStartingTree_GTRmodel_Trees\",\"ParsimonyRAxMLStartingTree_GTRmodel_Trees\",\"ParsimonyRAxMLStartingTree_GTRmodel_Trees\",\"ParsimonyRAxMLStartingTree_GTRmodel_Trees\",\"ParsimonyRAxMLStartingTree_GTRmodel_Trees\"],\"visible\":true,\"x\":[405.89956960926077,408.9169204713652,412.5346356350046,409.7214075544403,407.6561143696664,404.6502762648803,400.6118238119496,397.50859103284137,390.4422499234381,387.6371019080664,381.8127605002071,374.3104705176126,374.02677759924757,371.44760249195883,367.9591862823231,365.1688952747493,352.41088146191663,337.8287330240184,335.0569644749391,320.6975475924695,296.37211943767556,274.0949520876059,271.36940478826074,253.86972146601886,251.24920406112963,239.85147031864892,240.45989312078365,216.87066613173508,216.28203139655236,201.96838007439646,176.69836053495303,164.074117571127,161.60927858494807,146.58922171128478,125.28525807741173,97.51712819489099,65.74914809689331,64.33454681491234,46.57704230947875,14.657459357172906,-3.965346063351149,-5.2595061469660935,-10.718113184054225,-22.30121345806364,-27.995720022623185,-31.256641046196517,-31.256641046196535],\"y\":[179.72039201729083,149.88904035371328,125.33050985160027,117.7433264719088,107.5649682948638,99.45870663344644,93.93544149255028,86.44198970907705,70.10886865531816,62.541523746550126,54.948888347587605,48.78697467461343,48.88402292942857,39.21964683860482,40.146191268576615,32.594653301568286,8.461518787156525,-4.396660128235438,-11.927649648203364,-19.768771596999844,-37.11674128366903,-46.53533209968746,-54.05430630293321,-64.77956966501405,-70.53480146458683,-72.98751215343052,-83.28033264769049,-92.65976634378427,-102.93277010682887,-96.70731552691325,-119.98596098262618,-123.41057345346445,-131.03893893622302,-135.1080941323176,-133.87660995618344,-138.0500460518814,-146.79763367006817,-156.00858375026215,-147.18236959964955,-153.71522637151654,-161.5868794121891,-160.08823061160857,-154.65202106783613,-143.34166542310373,-137.31920879557774,-129.33536825749462,-129.33536825749465],\"z\":[0.9700672945134877,0.9705412479272008,0.9709861015878891,0.9712343475425222,0.9721987423836931,0.9730398734093442,0.9737466880689561,0.9739949090965807,0.9742675890401901,0.974515843601646,0.9753335648896028,0.9781142669763091,0.9784730112752232,0.9788397301135983,0.9793989881555106,0.9796472409252359,0.9803066666455064,0.9806124534020891,0.9808606787052772,0.981502890948614,0.9842836250704059,0.9850736781544701,0.9853218989826009,0.9878543990753186,0.9881991456978511,0.9894122197644111,0.9896604738739865,0.9903829284940235,0.9906311501602939,0.9912923076111829,0.9919329511550166,0.9925281516974549,0.9927764303275964,0.9930703430129498,0.9942329951946998,0.9955084987849606,0.9963630067531779,0.9966112695839008,0.9976579655375789,0.998170213167428,0.9992057157081702,0.9994813123358276,0.9995511853608854,0.9997243740269116,0.999890532695813,0.9999323830247656,0.9999323861421731],\"type\":\"scatter3d\"},{\"customdata\":[0,1,2,3,4,5,6,7,8,9,10,11,12,13,14,15,16,17,18,19,20,21,22,23,24,25,26,27,28,0,1,2,3,4,0,1,2,3,4,5,6,7,8,9,10,11,12,13,14,15,16,17,18,19,20,21,22,23,24,25,26,27,28,29,30,31,32,33,34,35,36,37,38,39,40,41,42,43,44,45,46,0,1,2,3,4,5,6,7,8,9,10,11,12,13,14,15,16,17,18,19,20,21,22,23,24,25,0,1,2,3,4,5,6,7,8,9,10,11,12,13,14,15,16,17,18,19,20,21,22,23,24,25,26,27,28,29,0],\"hovertemplate\":\"<b>Trace: %{text}</b><br>Step: %{customdata}<br>x: %{x}<br>y: %{y}<br>z: %{z}<br>\",\"marker\":{\"cmax\":0,\"cmin\":0,\"color\":[0.0,137.0,2.0,3.0,4.0,5.0,6.0,7.0,8.0,9.0,10.0,11.0,12.0,13.0,14.0,15.0,16.0,17.0,18.0,19.0,20.0,21.0,22.0,23.0,24.0,25.0],\"colorscale\":[[0.0,\"rgb(243, 203, 211)\"],[0.16666666666666666,\"rgb(234, 169, 189)\"],[0.3333333333333333,\"rgb(221, 136, 172)\"],[0.5,\"rgb(202, 105, 157)\"],[0.6666666666666666,\"rgb(177, 77, 142)\"],[0.8333333333333334,\"rgb(145, 53, 125)\"],[1.0,\"rgb(108, 33, 103)\"]],\"line\":{\"color\":\"rgba( 30, 30, 30, 0.3)\",\"width\":10},\"size\":[10,10,10,10,10,10,10,10,10,10,10,10,10,10,10,10,10,10,10,10,10,10,10,10,10,10],\"symbol\":[\"circle\",\"circle\",\"circle\",\"circle\",\"circle\",\"circle\",\"circle\",\"circle\",\"circle\",\"circle\",\"circle\",\"circle\",\"circle\",\"circle\",\"circle\",\"circle\",\"circle\",\"circle\",\"circle\",\"circle\",\"circle\",\"circle\",\"circle\",\"circle\",\"circle\",\"circle\"]},\"mode\":\"markers\",\"name\":\"RAxMLNGStartingTree_Trees\",\"opacity\":0.7,\"showlegend\":false,\"text\":[\"RAxMLNGStartingTree_Trees\",\"RAxMLNGStartingTree_Trees\",\"RAxMLNGStartingTree_Trees\",\"RAxMLNGStartingTree_Trees\",\"RAxMLNGStartingTree_Trees\",\"RAxMLNGStartingTree_Trees\",\"RAxMLNGStartingTree_Trees\",\"RAxMLNGStartingTree_Trees\",\"RAxMLNGStartingTree_Trees\",\"RAxMLNGStartingTree_Trees\",\"RAxMLNGStartingTree_Trees\",\"RAxMLNGStartingTree_Trees\",\"RAxMLNGStartingTree_Trees\",\"RAxMLNGStartingTree_Trees\",\"RAxMLNGStartingTree_Trees\",\"RAxMLNGStartingTree_Trees\",\"RAxMLNGStartingTree_Trees\",\"RAxMLNGStartingTree_Trees\",\"RAxMLNGStartingTree_Trees\",\"RAxMLNGStartingTree_Trees\",\"RAxMLNGStartingTree_Trees\",\"RAxMLNGStartingTree_Trees\",\"RAxMLNGStartingTree_Trees\",\"RAxMLNGStartingTree_Trees\",\"RAxMLNGStartingTree_Trees\",\"RAxMLNGStartingTree_Trees\"],\"visible\":true,\"x\":[-126.78907486634809,-131.49263420986432,-132.69602615057119,-134.76131933534518,-135.21224295071957,-145.69346959773995,-146.14855054572539,-149.73192205067065,-152.11392213502745,-168.366899380089,-170.70399660064965,-171.21066418228588,-164.59443380277682,-180.73866836363513,-186.4331749281947,-198.0162752022041,-200.63679260709324,-206.09539964418136,-217.4931333866622,-216.8847105845274,-205.45631688748693,-189.93365753864012,-186.37479360439997,-169.21925972562863,-169.52689454930592,-172.78781557287934],\"y\":[99.78961951266456,84.60878167578993,75.66820763548412,65.48984945843924,62.239978037716874,41.23243247338526,45.08388636071969,35.709167332489095,21.563909542499616,21.05427792864754,13.469654730402455,1.902461638221697,-18.83086144525392,-23.586103447188503,-17.563646819662548,-6.25329117493005,-12.00852297450284,-6.572313430730377,-9.025024119574148,-19.31784461383403,-46.431491114344745,-52.831557925971175,-38.71655369364088,-64.16552190365961,-47.42962376639731,-39.445783228314205],\"z\":[0.0,0.002364135497163565,0.002633656491754218,0.003723409145471242,0.004769374177058976,0.0070085499305209695,0.007384410557894614,0.007923191299462522,0.008589726842259515,0.009366298156674283,0.009616712429330493,0.010038418362898989,0.010655244476686886,0.012083776130270516,0.012705421374105946,0.013172544746181954,0.01400297769595069,0.014481921631771357,0.016133820374626677,0.016382103146618313,0.016779383178819378,0.016892119949295882,0.016970195524193352,0.017179104212207898,0.01729710723821109,0.017474714341984998],\"type\":\"scatter3d\"},{\"customdata\":[0,1,2,3,4,5,6,7,8,9,10,11,12,13,14,15,16,17,18,19,20,21,22,23,24,25,26,27,28,0,1,2,3,4,0,1,2,3,4,5,6,7,8,9,10,11,12,13,14,15,16,17,18,19,20,21,22,23,24,25,26,27,28,29,30,31,32,33,34,35,36,37,38,39,40,41,42,43,44,45,46,0,1,2,3,4,5,6,7,8,9,10,11,12,13,14,15,16,17,18,19,20,21,22,23,24,25,0,1,2,3,4,5,6,7,8,9,10,11,12,13,14,15,16,17,18,19,20,21,22,23,24,25,26,27,28,29,0],\"hovertemplate\":\"<b>Trace: %{text}</b><br>Step: %{customdata}<br>x: %{x}<br>y: %{y}<br>z: %{z}<br>\",\"marker\":{\"cmax\":0,\"cmin\":0,\"color\":[26.0],\"colorscale\":[[0.0,\"#fb9a99\"],[0.5,\"#fb9a99\"],[1.0,\"#fb9a99\"]],\"line\":{\"color\":\"rgba( 30, 30, 30, 0.3)\",\"width\":10},\"size\":[10],\"symbol\":[\"circle\"]},\"mode\":\"markers\",\"name\":\"TrueTreeSimulations\",\"opacity\":0.7,\"showlegend\":false,\"text\":[\"TrueTreeSimulations\"],\"visible\":true,\"x\":[-9.23916066656199],\"y\":[308.51650255413733],\"z\":[0.7068901658026021],\"type\":\"scatter3d\"},{\"customdata\":[0,1,2,3,4,5,6,7,8,9,10,11,12,13,14,15,16,17,18,19,20,21,22,23,24,25,26,27,28,0,1,2,3,4,0,1,2,3,4,5,6,7,8,9,10,11,12,13,14,15,16,17,18,19,20,21,22,23,24,25,26,27,28,29,30,31,32,33,34,35,36,37,38,39,40,41,42,43,44,45,46,0,1,2,3,4,5,6,7,8,9,10,11,12,13,14,15,16,17,18,19,20,21,22,23,24,25,0,1,2,3,4,5,6,7,8,9,10,11,12,13,14,15,16,17,18,19,20,21,22,23,24,25,26,27,28,29,0],\"hovertemplate\":\"<b>Trace: %{text}</b><br>Step: %{customdata}<br>x: %{x}<br>y: %{y}<br>z: %{z}<br>\",\"marker\":{\"cmax\":0,\"cmin\":0,\"color\":[37.0,39.0,40.0,46.0,48.0,50.0,52.0,54.0,55.0,56.0,61.0,67.0,68.0,73.0,78.0,86.0,89.0,92.0,96.0,103.0,108.0,116.0,119.0,124.0,126.0,129.0,131.0,132.0,136.0,137.0],\"colorscale\":[[0.0,\"rgb(255,245,235)\"],[0.125,\"rgb(254,230,206)\"],[0.25,\"rgb(253,208,162)\"],[0.375,\"rgb(253,174,107)\"],[0.5,\"rgb(253,141,60)\"],[0.625,\"rgb(241,105,19)\"],[0.75,\"rgb(217,72,1)\"],[0.875,\"rgb(166,54,3)\"],[1.0,\"rgb(127,39,4)\"]],\"line\":{\"color\":\"rgba( 30, 30, 30, 0.3)\",\"width\":10},\"size\":[10,10,10,10,10,10,10,10,10,10,10,10,10,10,10,10,10,10,10,10,10,10,10,10,10,10,10,10,10,10],\"symbol\":[\"circle\",\"circle\",\"circle\",\"circle\",\"circle\",\"circle\",\"circle\",\"circle\",\"circle\",\"circle\",\"circle\",\"circle\",\"circle\",\"circle\",\"circle\",\"circle\",\"circle\",\"circle\",\"circle\",\"circle\",\"circle\",\"circle\",\"circle\",\"circle\",\"circle\",\"circle\",\"circle\",\"circle\",\"circle\",\"circle\"]},\"mode\":\"markers\",\"name\":\"UshERStartingTree_Trees\",\"opacity\":0.7,\"showlegend\":false,\"text\":[\"UshERStartingTree_Trees\",\"UshERStartingTree_Trees\",\"UshERStartingTree_Trees\",\"UshERStartingTree_Trees\",\"UshERStartingTree_Trees\",\"UshERStartingTree_Trees\",\"UshERStartingTree_Trees\",\"UshERStartingTree_Trees\",\"UshERStartingTree_Trees\",\"UshERStartingTree_Trees\",\"UshERStartingTree_Trees\",\"UshERStartingTree_Trees\",\"UshERStartingTree_Trees\",\"UshERStartingTree_Trees\",\"UshERStartingTree_Trees\",\"UshERStartingTree_Trees\",\"UshERStartingTree_Trees\",\"UshERStartingTree_Trees\",\"UshERStartingTree_Trees\",\"UshERStartingTree_Trees\",\"UshERStartingTree_Trees\",\"UshERStartingTree_Trees\",\"UshERStartingTree_Trees\",\"UshERStartingTree_Trees\",\"UshERStartingTree_Trees\",\"UshERStartingTree_Trees\",\"UshERStartingTree_Trees\",\"UshERStartingTree_Trees\",\"UshERStartingTree_Trees\",\"UshERStartingTree_Trees\"],\"visible\":true,\"x\":[-20.038068903669917,-22.349955658064047,-24.72849334065964,-27.0375227420621,-24.0201718799577,-24.526839461593926,-27.147356866483033,-38.545090608963875,-37.93666780682916,-52.296084689298695,-54.11118147660749,-56.8684786654211,-59.30208830033921,-60.86437087596697,-62.34302256356459,-65.13387150736924,-78.93141829580662,-93.95147516946993,-101.90881563028005,-104.76122658469475,-105.64558441772286,-109.68403687065351,-94.16137752180661,-99.8558840863662,-105.31449112345436,-116.89759139746374,-120.15851242103709,-120.15851242103709,-119.04134443004722,-117.8379524893402],\"y\":[-22.888658173139643,-30.234819819690276,-37.50394860106818,-44.57722390179768,-74.40857556537537,-85.9757686575561,-91.73100045712894,-94.1837111459727,-104.47653164023244,-112.31765358902904,-117.79498715425507,-126.067740710303,-133.48333409419453,-138.22289617788982,-142.71891886540655,-151.22687897636297,-148.41830805593608,-152.48746325203072,-157.31442141704574,-167.06184694372854,-170.11234485870634,-175.63560999960254,-182.03567681122885,-176.01322018370288,-170.5770106399304,-159.266654995198,-151.2828144571149,-151.2828144571149,-151.93729162103256,-142.99671758072662],\"z\":[0.9749631951512031,0.976279341584308,0.9779473526074957,0.9799017954421544,0.980375748867021,0.9807888390759901,0.9811327784252889,0.9823467347249853,0.9825949738185971,0.9831917470761882,0.9849785239649003,0.9862996007018916,0.9865478240118036,0.988204443972448,0.9901669531333946,0.9921830535834957,0.9928485790844681,0.9931316267197379,0.9948014810823455,0.9966363784601839,0.9985772594548527,0.9992849868137395,0.9993977538064339,0.9995632613456407,0.9996326687449995,0.9998060423970282,0.9998444854068155,0.9998497060727565,0.9999758011241915,1.0],\"type\":\"scatter3d\"}],                        {\"template\":{\"data\":{\"barpolar\":[{\"marker\":{\"line\":{\"color\":\"rgb(234,234,242)\",\"width\":0.5},\"pattern\":{\"fillmode\":\"overlay\",\"size\":10,\"solidity\":0.2}},\"type\":\"barpolar\"}],\"bar\":[{\"error_x\":{\"color\":\"rgb(36,36,36)\"},\"error_y\":{\"color\":\"rgb(36,36,36)\"},\"marker\":{\"line\":{\"color\":\"rgb(234,234,242)\",\"width\":0.5},\"pattern\":{\"fillmode\":\"overlay\",\"size\":10,\"solidity\":0.2}},\"type\":\"bar\"}],\"carpet\":[{\"aaxis\":{\"endlinecolor\":\"rgb(36,36,36)\",\"gridcolor\":\"white\",\"linecolor\":\"white\",\"minorgridcolor\":\"white\",\"startlinecolor\":\"rgb(36,36,36)\"},\"baxis\":{\"endlinecolor\":\"rgb(36,36,36)\",\"gridcolor\":\"white\",\"linecolor\":\"white\",\"minorgridcolor\":\"white\",\"startlinecolor\":\"rgb(36,36,36)\"},\"type\":\"carpet\"}],\"choropleth\":[{\"colorbar\":{\"outlinewidth\":0,\"tickcolor\":\"rgb(36,36,36)\",\"ticklen\":8,\"ticks\":\"outside\",\"tickwidth\":2},\"type\":\"choropleth\"}],\"contourcarpet\":[{\"colorbar\":{\"outlinewidth\":0,\"tickcolor\":\"rgb(36,36,36)\",\"ticklen\":8,\"ticks\":\"outside\",\"tickwidth\":2},\"type\":\"contourcarpet\"}],\"contour\":[{\"colorbar\":{\"outlinewidth\":0,\"tickcolor\":\"rgb(36,36,36)\",\"ticklen\":8,\"ticks\":\"outside\",\"tickwidth\":2},\"colorscale\":[[0.0,\"rgb(2,4,25)\"],[0.06274509803921569,\"rgb(24,15,41)\"],[0.12549019607843137,\"rgb(47,23,57)\"],[0.18823529411764706,\"rgb(71,28,72)\"],[0.25098039215686274,\"rgb(97,30,82)\"],[0.3137254901960784,\"rgb(123,30,89)\"],[0.3764705882352941,\"rgb(150,27,91)\"],[0.4392156862745098,\"rgb(177,22,88)\"],[0.5019607843137255,\"rgb(203,26,79)\"],[0.5647058823529412,\"rgb(223,47,67)\"],[0.6274509803921569,\"rgb(236,76,61)\"],[0.6901960784313725,\"rgb(242,107,73)\"],[0.7529411764705882,\"rgb(244,135,95)\"],[0.8156862745098039,\"rgb(245,162,122)\"],[0.8784313725490196,\"rgb(246,188,153)\"],[0.9411764705882353,\"rgb(247,212,187)\"],[1.0,\"rgb(250,234,220)\"]],\"type\":\"contour\"}],\"heatmapgl\":[{\"colorbar\":{\"outlinewidth\":0,\"tickcolor\":\"rgb(36,36,36)\",\"ticklen\":8,\"ticks\":\"outside\",\"tickwidth\":2},\"colorscale\":[[0.0,\"rgb(2,4,25)\"],[0.06274509803921569,\"rgb(24,15,41)\"],[0.12549019607843137,\"rgb(47,23,57)\"],[0.18823529411764706,\"rgb(71,28,72)\"],[0.25098039215686274,\"rgb(97,30,82)\"],[0.3137254901960784,\"rgb(123,30,89)\"],[0.3764705882352941,\"rgb(150,27,91)\"],[0.4392156862745098,\"rgb(177,22,88)\"],[0.5019607843137255,\"rgb(203,26,79)\"],[0.5647058823529412,\"rgb(223,47,67)\"],[0.6274509803921569,\"rgb(236,76,61)\"],[0.6901960784313725,\"rgb(242,107,73)\"],[0.7529411764705882,\"rgb(244,135,95)\"],[0.8156862745098039,\"rgb(245,162,122)\"],[0.8784313725490196,\"rgb(246,188,153)\"],[0.9411764705882353,\"rgb(247,212,187)\"],[1.0,\"rgb(250,234,220)\"]],\"type\":\"heatmapgl\"}],\"heatmap\":[{\"colorbar\":{\"outlinewidth\":0,\"tickcolor\":\"rgb(36,36,36)\",\"ticklen\":8,\"ticks\":\"outside\",\"tickwidth\":2},\"colorscale\":[[0.0,\"rgb(2,4,25)\"],[0.06274509803921569,\"rgb(24,15,41)\"],[0.12549019607843137,\"rgb(47,23,57)\"],[0.18823529411764706,\"rgb(71,28,72)\"],[0.25098039215686274,\"rgb(97,30,82)\"],[0.3137254901960784,\"rgb(123,30,89)\"],[0.3764705882352941,\"rgb(150,27,91)\"],[0.4392156862745098,\"rgb(177,22,88)\"],[0.5019607843137255,\"rgb(203,26,79)\"],[0.5647058823529412,\"rgb(223,47,67)\"],[0.6274509803921569,\"rgb(236,76,61)\"],[0.6901960784313725,\"rgb(242,107,73)\"],[0.7529411764705882,\"rgb(244,135,95)\"],[0.8156862745098039,\"rgb(245,162,122)\"],[0.8784313725490196,\"rgb(246,188,153)\"],[0.9411764705882353,\"rgb(247,212,187)\"],[1.0,\"rgb(250,234,220)\"]],\"type\":\"heatmap\"}],\"histogram2dcontour\":[{\"colorbar\":{\"outlinewidth\":0,\"tickcolor\":\"rgb(36,36,36)\",\"ticklen\":8,\"ticks\":\"outside\",\"tickwidth\":2},\"colorscale\":[[0.0,\"rgb(2,4,25)\"],[0.06274509803921569,\"rgb(24,15,41)\"],[0.12549019607843137,\"rgb(47,23,57)\"],[0.18823529411764706,\"rgb(71,28,72)\"],[0.25098039215686274,\"rgb(97,30,82)\"],[0.3137254901960784,\"rgb(123,30,89)\"],[0.3764705882352941,\"rgb(150,27,91)\"],[0.4392156862745098,\"rgb(177,22,88)\"],[0.5019607843137255,\"rgb(203,26,79)\"],[0.5647058823529412,\"rgb(223,47,67)\"],[0.6274509803921569,\"rgb(236,76,61)\"],[0.6901960784313725,\"rgb(242,107,73)\"],[0.7529411764705882,\"rgb(244,135,95)\"],[0.8156862745098039,\"rgb(245,162,122)\"],[0.8784313725490196,\"rgb(246,188,153)\"],[0.9411764705882353,\"rgb(247,212,187)\"],[1.0,\"rgb(250,234,220)\"]],\"type\":\"histogram2dcontour\"}],\"histogram2d\":[{\"colorbar\":{\"outlinewidth\":0,\"tickcolor\":\"rgb(36,36,36)\",\"ticklen\":8,\"ticks\":\"outside\",\"tickwidth\":2},\"colorscale\":[[0.0,\"rgb(2,4,25)\"],[0.06274509803921569,\"rgb(24,15,41)\"],[0.12549019607843137,\"rgb(47,23,57)\"],[0.18823529411764706,\"rgb(71,28,72)\"],[0.25098039215686274,\"rgb(97,30,82)\"],[0.3137254901960784,\"rgb(123,30,89)\"],[0.3764705882352941,\"rgb(150,27,91)\"],[0.4392156862745098,\"rgb(177,22,88)\"],[0.5019607843137255,\"rgb(203,26,79)\"],[0.5647058823529412,\"rgb(223,47,67)\"],[0.6274509803921569,\"rgb(236,76,61)\"],[0.6901960784313725,\"rgb(242,107,73)\"],[0.7529411764705882,\"rgb(244,135,95)\"],[0.8156862745098039,\"rgb(245,162,122)\"],[0.8784313725490196,\"rgb(246,188,153)\"],[0.9411764705882353,\"rgb(247,212,187)\"],[1.0,\"rgb(250,234,220)\"]],\"type\":\"histogram2d\"}],\"histogram\":[{\"marker\":{\"pattern\":{\"fillmode\":\"overlay\",\"size\":10,\"solidity\":0.2}},\"type\":\"histogram\"}],\"mesh3d\":[{\"colorbar\":{\"outlinewidth\":0,\"tickcolor\":\"rgb(36,36,36)\",\"ticklen\":8,\"ticks\":\"outside\",\"tickwidth\":2},\"type\":\"mesh3d\"}],\"parcoords\":[{\"line\":{\"colorbar\":{\"outlinewidth\":0,\"tickcolor\":\"rgb(36,36,36)\",\"ticklen\":8,\"ticks\":\"outside\",\"tickwidth\":2}},\"type\":\"parcoords\"}],\"pie\":[{\"automargin\":true,\"type\":\"pie\"}],\"scatter3d\":[{\"line\":{\"colorbar\":{\"outlinewidth\":0,\"tickcolor\":\"rgb(36,36,36)\",\"ticklen\":8,\"ticks\":\"outside\",\"tickwidth\":2}},\"marker\":{\"colorbar\":{\"outlinewidth\":0,\"tickcolor\":\"rgb(36,36,36)\",\"ticklen\":8,\"ticks\":\"outside\",\"tickwidth\":2}},\"type\":\"scatter3d\"}],\"scattercarpet\":[{\"marker\":{\"colorbar\":{\"outlinewidth\":0,\"tickcolor\":\"rgb(36,36,36)\",\"ticklen\":8,\"ticks\":\"outside\",\"tickwidth\":2}},\"type\":\"scattercarpet\"}],\"scattergeo\":[{\"marker\":{\"colorbar\":{\"outlinewidth\":0,\"tickcolor\":\"rgb(36,36,36)\",\"ticklen\":8,\"ticks\":\"outside\",\"tickwidth\":2}},\"type\":\"scattergeo\"}],\"scattergl\":[{\"marker\":{\"colorbar\":{\"outlinewidth\":0,\"tickcolor\":\"rgb(36,36,36)\",\"ticklen\":8,\"ticks\":\"outside\",\"tickwidth\":2}},\"type\":\"scattergl\"}],\"scattermapbox\":[{\"marker\":{\"colorbar\":{\"outlinewidth\":0,\"tickcolor\":\"rgb(36,36,36)\",\"ticklen\":8,\"ticks\":\"outside\",\"tickwidth\":2}},\"type\":\"scattermapbox\"}],\"scatterpolargl\":[{\"marker\":{\"colorbar\":{\"outlinewidth\":0,\"tickcolor\":\"rgb(36,36,36)\",\"ticklen\":8,\"ticks\":\"outside\",\"tickwidth\":2}},\"type\":\"scatterpolargl\"}],\"scatterpolar\":[{\"marker\":{\"colorbar\":{\"outlinewidth\":0,\"tickcolor\":\"rgb(36,36,36)\",\"ticklen\":8,\"ticks\":\"outside\",\"tickwidth\":2}},\"type\":\"scatterpolar\"}],\"scatter\":[{\"fillpattern\":{\"fillmode\":\"overlay\",\"size\":10,\"solidity\":0.2},\"type\":\"scatter\"}],\"scatterternary\":[{\"marker\":{\"colorbar\":{\"outlinewidth\":0,\"tickcolor\":\"rgb(36,36,36)\",\"ticklen\":8,\"ticks\":\"outside\",\"tickwidth\":2}},\"type\":\"scatterternary\"}],\"surface\":[{\"colorbar\":{\"outlinewidth\":0,\"tickcolor\":\"rgb(36,36,36)\",\"ticklen\":8,\"ticks\":\"outside\",\"tickwidth\":2},\"colorscale\":[[0.0,\"rgb(2,4,25)\"],[0.06274509803921569,\"rgb(24,15,41)\"],[0.12549019607843137,\"rgb(47,23,57)\"],[0.18823529411764706,\"rgb(71,28,72)\"],[0.25098039215686274,\"rgb(97,30,82)\"],[0.3137254901960784,\"rgb(123,30,89)\"],[0.3764705882352941,\"rgb(150,27,91)\"],[0.4392156862745098,\"rgb(177,22,88)\"],[0.5019607843137255,\"rgb(203,26,79)\"],[0.5647058823529412,\"rgb(223,47,67)\"],[0.6274509803921569,\"rgb(236,76,61)\"],[0.6901960784313725,\"rgb(242,107,73)\"],[0.7529411764705882,\"rgb(244,135,95)\"],[0.8156862745098039,\"rgb(245,162,122)\"],[0.8784313725490196,\"rgb(246,188,153)\"],[0.9411764705882353,\"rgb(247,212,187)\"],[1.0,\"rgb(250,234,220)\"]],\"type\":\"surface\"}],\"table\":[{\"cells\":{\"fill\":{\"color\":\"rgb(231,231,240)\"},\"line\":{\"color\":\"white\"}},\"header\":{\"fill\":{\"color\":\"rgb(183,183,191)\"},\"line\":{\"color\":\"white\"}},\"type\":\"table\"}]},\"layout\":{\"annotationdefaults\":{\"arrowcolor\":\"rgb(67,103,167)\"},\"autotypenumbers\":\"strict\",\"coloraxis\":{\"colorbar\":{\"outlinewidth\":0,\"tickcolor\":\"rgb(36,36,36)\",\"ticklen\":8,\"ticks\":\"outside\",\"tickwidth\":2}},\"colorscale\":{\"sequential\":[[0.0,\"rgb(2,4,25)\"],[0.06274509803921569,\"rgb(24,15,41)\"],[0.12549019607843137,\"rgb(47,23,57)\"],[0.18823529411764706,\"rgb(71,28,72)\"],[0.25098039215686274,\"rgb(97,30,82)\"],[0.3137254901960784,\"rgb(123,30,89)\"],[0.3764705882352941,\"rgb(150,27,91)\"],[0.4392156862745098,\"rgb(177,22,88)\"],[0.5019607843137255,\"rgb(203,26,79)\"],[0.5647058823529412,\"rgb(223,47,67)\"],[0.6274509803921569,\"rgb(236,76,61)\"],[0.6901960784313725,\"rgb(242,107,73)\"],[0.7529411764705882,\"rgb(244,135,95)\"],[0.8156862745098039,\"rgb(245,162,122)\"],[0.8784313725490196,\"rgb(246,188,153)\"],[0.9411764705882353,\"rgb(247,212,187)\"],[1.0,\"rgb(250,234,220)\"]],\"sequentialminus\":[[0.0,\"rgb(2,4,25)\"],[0.06274509803921569,\"rgb(24,15,41)\"],[0.12549019607843137,\"rgb(47,23,57)\"],[0.18823529411764706,\"rgb(71,28,72)\"],[0.25098039215686274,\"rgb(97,30,82)\"],[0.3137254901960784,\"rgb(123,30,89)\"],[0.3764705882352941,\"rgb(150,27,91)\"],[0.4392156862745098,\"rgb(177,22,88)\"],[0.5019607843137255,\"rgb(203,26,79)\"],[0.5647058823529412,\"rgb(223,47,67)\"],[0.6274509803921569,\"rgb(236,76,61)\"],[0.6901960784313725,\"rgb(242,107,73)\"],[0.7529411764705882,\"rgb(244,135,95)\"],[0.8156862745098039,\"rgb(245,162,122)\"],[0.8784313725490196,\"rgb(246,188,153)\"],[0.9411764705882353,\"rgb(247,212,187)\"],[1.0,\"rgb(250,234,220)\"]]},\"colorway\":[\"rgb(76,114,176)\",\"rgb(221,132,82)\",\"rgb(85,168,104)\",\"rgb(196,78,82)\",\"rgb(129,114,179)\",\"rgb(147,120,96)\",\"rgb(218,139,195)\",\"rgb(140,140,140)\",\"rgb(204,185,116)\",\"rgb(100,181,205)\"],\"font\":{\"color\":\"rgb(36,36,36)\"},\"geo\":{\"bgcolor\":\"white\",\"lakecolor\":\"white\",\"landcolor\":\"rgb(234,234,242)\",\"showlakes\":true,\"showland\":true,\"subunitcolor\":\"white\"},\"hoverlabel\":{\"align\":\"left\"},\"hovermode\":\"closest\",\"paper_bgcolor\":\"white\",\"plot_bgcolor\":\"rgb(234,234,242)\",\"polar\":{\"angularaxis\":{\"gridcolor\":\"white\",\"linecolor\":\"white\",\"showgrid\":true,\"ticks\":\"\"},\"bgcolor\":\"rgb(234,234,242)\",\"radialaxis\":{\"gridcolor\":\"white\",\"linecolor\":\"white\",\"showgrid\":true,\"ticks\":\"\"}},\"scene\":{\"xaxis\":{\"backgroundcolor\":\"rgb(234,234,242)\",\"gridcolor\":\"white\",\"gridwidth\":2,\"linecolor\":\"white\",\"showbackground\":true,\"showgrid\":true,\"ticks\":\"\",\"zerolinecolor\":\"white\"},\"yaxis\":{\"backgroundcolor\":\"rgb(234,234,242)\",\"gridcolor\":\"white\",\"gridwidth\":2,\"linecolor\":\"white\",\"showbackground\":true,\"showgrid\":true,\"ticks\":\"\",\"zerolinecolor\":\"white\"},\"zaxis\":{\"backgroundcolor\":\"rgb(234,234,242)\",\"gridcolor\":\"white\",\"gridwidth\":2,\"linecolor\":\"white\",\"showbackground\":true,\"showgrid\":true,\"ticks\":\"\",\"zerolinecolor\":\"white\"}},\"shapedefaults\":{\"fillcolor\":\"rgb(67,103,167)\",\"line\":{\"width\":0},\"opacity\":0.5},\"ternary\":{\"aaxis\":{\"gridcolor\":\"white\",\"linecolor\":\"white\",\"showgrid\":true,\"ticks\":\"\"},\"baxis\":{\"gridcolor\":\"white\",\"linecolor\":\"white\",\"showgrid\":true,\"ticks\":\"\"},\"bgcolor\":\"rgb(234,234,242)\",\"caxis\":{\"gridcolor\":\"white\",\"linecolor\":\"white\",\"showgrid\":true,\"ticks\":\"\"}},\"xaxis\":{\"automargin\":true,\"gridcolor\":\"white\",\"linecolor\":\"white\",\"showgrid\":true,\"ticks\":\"\",\"title\":{\"standoff\":15},\"zerolinecolor\":\"white\"},\"yaxis\":{\"automargin\":true,\"gridcolor\":\"white\",\"linecolor\":\"white\",\"showgrid\":true,\"ticks\":\"\",\"title\":{\"standoff\":15},\"zerolinecolor\":\"white\"}}},\"margin\":{\"t\":0,\"b\":100,\"l\":0,\"r\":0},\"width\":900,\"height\":960,\"autosize\":true,\"plot_bgcolor\":\"rgba(0,0,0,0)\",\"paper_bgcolor\":\"rgba(0,0,0,0)\",\"scene\":{\"aspectratio\":{\"x\":1,\"y\":1,\"z\":1},\"aspectmode\":\"manual\"},\"updatemenus\":[{\"buttons\":[{\"args\":[{\"mode\":[\"markers\",\"markers\",\"markers\",\"markers\",\"markers\",\"markers\"]}],\"label\":\"Markers\",\"method\":\"restyle\"},{\"args\":[{\"mode\":[\"lines+markers\",\"lines+markers\",\"lines+markers\",\"lines+markers\",\"lines+markers\",\"lines+markers\"]}],\"label\":\"Markers & Lines\",\"method\":\"restyle\"}],\"direction\":\"left\",\"pad\":{\"r\":10,\"t\":10},\"showactive\":true,\"type\":\"buttons\",\"x\":0.1,\"xanchor\":\"left\",\"y\":1.09,\"yanchor\":\"top\"},{\"buttons\":[{\"args\":[{\"visible\":true},[0]],\"args2\":[{\"visible\":false},[0]],\"label\":\"Show IQtreeStartingT...\",\"method\":\"restyle\"}],\"direction\":\"left\",\"pad\":{\"r\":0,\"t\":0},\"showactive\":true,\"type\":\"buttons\",\"x\":0.0,\"xanchor\":\"left\",\"y\":1.2,\"yanchor\":\"top\"},{\"buttons\":[{\"args\":[{\"visible\":true},[1]],\"args2\":[{\"visible\":false},[1]],\"label\":\"Show MapleStartingTr...\",\"method\":\"restyle\"}],\"direction\":\"left\",\"pad\":{\"r\":0,\"t\":0},\"showactive\":true,\"type\":\"buttons\",\"x\":0.0,\"xanchor\":\"left\",\"y\":1.27,\"yanchor\":\"top\"},{\"buttons\":[{\"args\":[{\"visible\":true},[2]],\"args2\":[{\"visible\":false},[2]],\"label\":\"Show ParsimonyRAxMLS...\",\"method\":\"restyle\"}],\"direction\":\"left\",\"pad\":{\"r\":0,\"t\":0},\"showactive\":true,\"type\":\"buttons\",\"x\":0.0,\"xanchor\":\"left\",\"y\":1.3399999999999999,\"yanchor\":\"top\"},{\"buttons\":[{\"args\":[{\"visible\":true},[3]],\"args2\":[{\"visible\":false},[3]],\"label\":\"Show RAxMLNGStarting...\",\"method\":\"restyle\"}],\"direction\":\"left\",\"pad\":{\"r\":0,\"t\":0},\"showactive\":true,\"type\":\"buttons\",\"x\":0.25,\"xanchor\":\"left\",\"y\":1.2,\"yanchor\":\"top\"},{\"buttons\":[{\"args\":[{\"visible\":true},[4]],\"args2\":[{\"visible\":false},[4]],\"label\":\"Show TrueTreeSimulat...\",\"method\":\"restyle\"}],\"direction\":\"left\",\"pad\":{\"r\":0,\"t\":0},\"showactive\":true,\"type\":\"buttons\",\"x\":0.25,\"xanchor\":\"left\",\"y\":1.27,\"yanchor\":\"top\"},{\"buttons\":[{\"args\":[{\"visible\":true},[5]],\"args2\":[{\"visible\":false},[5]],\"label\":\"Show UshERStartingTr...\",\"method\":\"restyle\"}],\"direction\":\"left\",\"pad\":{\"r\":0,\"t\":0},\"showactive\":true,\"type\":\"buttons\",\"x\":0.25,\"xanchor\":\"left\",\"y\":1.3399999999999999,\"yanchor\":\"top\"}],\"annotations\":[{\"align\":\"left\",\"showarrow\":false,\"text\":\"<b>Points:\",\"x\":0,\"xref\":\"paper\",\"y\":1.06,\"yref\":\"paper\"}]},                        {\"responsive\": true}                    ).then(function(){\n",
       "                            \n",
       "var gd = document.getElementById('322dfdd0-5cff-49bb-9f17-f60232c66e1e');\n",
       "var x = new MutationObserver(function (mutations, observer) {{\n",
       "        var display = window.getComputedStyle(gd).display;\n",
       "        if (!display || display === 'none') {{\n",
       "            console.log([gd, 'removed!']);\n",
       "            Plotly.purge(gd);\n",
       "            observer.disconnect();\n",
       "        }}\n",
       "}});\n",
       "\n",
       "// Listen for the removal of the full notebook cells\n",
       "var notebookContainer = gd.closest('#notebook-container');\n",
       "if (notebookContainer) {{\n",
       "    x.observe(notebookContainer, {childList: true});\n",
       "}}\n",
       "\n",
       "// Listen for the clearing of the current output cell\n",
       "var outputEl = gd.closest('.output');\n",
       "if (outputEl) {{\n",
       "    x.observe(outputEl, {childList: true});\n",
       "}}\n",
       "\n",
       "                        })                };                });            </script>        </div>"
      ]
     },
     "metadata": {},
     "output_type": "display_data"
    }
   ],
   "source": [
    "collection_maple.plot_3D('pca', plot_meta = 'LK', same_scale = False, select = True, z_axis = 'LK')"
   ]
  },
  {
   "cell_type": "markdown",
   "id": "cf633cc9",
   "metadata": {},
   "source": [
    "# RAxML\n",
    "### <font color='purple'> Bootstrap Analysis </font> "
   ]
  },
  {
   "cell_type": "code",
   "execution_count": 11,
   "id": "de8a157a",
   "metadata": {},
   "outputs": [
    {
     "name": "stdout",
     "output_type": "stream",
     "text": [
      "─────────────────────────────            \n",
      " Tree set collection containing 3656 trees;            \n",
      " File: Set_collection_eff5bbe4-0917-467d-a830-5b40b428d7de;\n",
      " Distance matrix: not computed.                \n",
      "───────────────────────────── \n",
      "bootstrap_6086; Containing 500 trees. \n",
      "bootstrap_5261; Containing 600 trees. \n",
      "bootstrap_5092; Containing 800 trees. \n",
      "bootstrap_281; Containing 600 trees. \n",
      "bootstrap_11289; Containing 600 trees. \n",
      "bootstrap_10409; Containing 550 trees. \n",
      "bestTree_6086; Containing 1 trees. \n",
      "bestTree_5261; Containing 1 trees. \n",
      "bestTree_5092; Containing 1 trees. \n",
      "bestTree_281; Containing 1 trees. \n",
      "bestTree_11289; Containing 1 trees. \n",
      "bestTree_10409; Containing 1 trees. \n",
      "\n"
     ]
    }
   ],
   "source": [
    "input_dir = './bootstrap_mammals/'\n",
    "files = ([f'bootstrap_{i}' for i in [6086, 5261, 5092, 281, 11289, 10409]] + \n",
    "    [f'bestTree_{i}' for i in [6086, 5261, 5092, 281, 11289, 10409]])\n",
    "collection = tree_set.set_collection([os.path.join(input_dir, f) for f in files])\n",
    "print(collection)"
   ]
  },
  {
   "cell_type": "code",
   "execution_count": null,
   "id": "e41f12d3",
   "metadata": {},
   "outputs": [
    {
     "data": {
      "application/vnd.jupyter.widget-view+json": {
       "model_id": "b58960df3f8a4559a10a2831f3a39d0a",
       "version_major": 2,
       "version_minor": 0
      },
      "text/plain": [
       "Output()"
      ]
     },
     "metadata": {},
     "output_type": "display_data"
    }
   ],
   "source": [
    "collection.plot_2D('pca', select=True)"
   ]
  },
  {
   "cell_type": "code",
   "execution_count": null,
   "id": "be9cc434",
   "metadata": {},
   "outputs": [],
   "source": [
    "collection.plot_3D('pca', select = True)"
   ]
  },
  {
   "cell_type": "markdown",
   "id": "e8048767",
   "metadata": {},
   "source": [
    "# BEAST\n",
    "### <font color='purple'> Bayesan - Markow Chain Monte Carlo </font> "
   ]
  },
  {
   "cell_type": "code",
   "execution_count": 12,
   "id": "aa077579",
   "metadata": {},
   "outputs": [],
   "source": [
    "beast_dir = './beast_trees'\n",
    "beast_runs = [os.path.join(beast_dir, f\"beast_run{i}.trees\") for i in range(1,9)] + [os.path.join(beast_dir, f\"beast_long.trees\")]\n",
    "collection = tree_set.set_collection(beast_runs)\n",
    "print(collection)"
   ]
  },
  {
   "cell_type": "code",
   "execution_count": 16,
   "id": "d048b00e",
   "metadata": {},
   "outputs": [
    {
     "data": {
      "application/vnd.jupyter.widget-view+json": {
       "model_id": "6fefe01213b94098864fcc3fc7a257d2",
       "version_major": 2,
       "version_minor": 0
      },
      "text/plain": [
       "VBox(children=(HBox(children=(Dropdown(description='Metadata:', options=('SET-ID', 'STEP'), value='SET-ID'), B…"
      ]
     },
     "metadata": {},
     "output_type": "display_data"
    }
   ],
   "source": [
    "collection.plot_2D('pca')"
   ]
  },
  {
   "cell_type": "code",
   "execution_count": 15,
   "id": "a066715d",
   "metadata": {},
   "outputs": [
    {
     "data": {
      "application/vnd.jupyter.widget-view+json": {
       "model_id": "ac57753bb40644d0a2b7b9e847efcfcc",
       "version_major": 2,
       "version_minor": 0
      },
      "text/plain": [
       "VBox(children=(HBox(children=(Dropdown(description='Metadata:', options=('SET-ID', 'STEP'), value='SET-ID'), B…"
      ]
     },
     "metadata": {},
     "output_type": "display_data"
    }
   ],
   "source": [
    "collection.plot_3D('pca')"
   ]
  },
  {
   "cell_type": "code",
   "execution_count": null,
   "id": "856f1c3b",
   "metadata": {},
   "outputs": [],
   "source": []
  }
 ],
 "metadata": {
  "kernelspec": {
   "display_name": "Python 3 (ipykernel)",
   "language": "python",
   "name": "python3"
  },
  "language_info": {
   "codemirror_mode": {
    "name": "ipython",
    "version": 3
   },
   "file_extension": ".py",
   "mimetype": "text/x-python",
   "name": "python",
   "nbconvert_exporter": "python",
   "pygments_lexer": "ipython3",
   "version": "3.10.8"
  }
 },
 "nbformat": 4,
 "nbformat_minor": 5
}
